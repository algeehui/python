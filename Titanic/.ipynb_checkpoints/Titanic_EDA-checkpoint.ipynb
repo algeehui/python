{
 "cells": [
  {
   "cell_type": "code",
   "execution_count": 313,
   "metadata": {},
   "outputs": [],
   "source": [
    "import pandas as pd\n",
    "from pandas.api.types import CategoricalDtype\n",
    "import numpy as np\n",
    "import matplotlib.pyplot as plt\n",
    "import matplotlib.ticker as mticker\n",
    "import seaborn as sns\n",
    "import re\n",
    "import warnings\n",
    "%matplotlib inline\n",
    "warnings.filterwarnings('ignore')"
   ]
  },
  {
   "cell_type": "code",
   "execution_count": 263,
   "metadata": {},
   "outputs": [],
   "source": [
    "df_train = pd.read_csv('train.csv')\n",
    "df_test = pd.read_csv('test.csv')\n",
    "df_sample_submit = pd.read_csv('gender_submission.csv')"
   ]
  },
  {
   "cell_type": "markdown",
   "metadata": {},
   "source": [
    "## Basic Exploratory Data Analysis (EDA)"
   ]
  },
  {
   "cell_type": "code",
   "execution_count": 264,
   "metadata": {},
   "outputs": [],
   "source": [
    "df_explore = df_train.copy(deep=True)"
   ]
  },
  {
   "cell_type": "code",
   "execution_count": 265,
   "metadata": {},
   "outputs": [
    {
     "name": "stdout",
     "output_type": "stream",
     "text": [
      "<class 'pandas.core.frame.DataFrame'>\n",
      "RangeIndex: 891 entries, 0 to 890\n",
      "Data columns (total 12 columns):\n",
      "PassengerId    891 non-null int64\n",
      "Survived       891 non-null int64\n",
      "Pclass         891 non-null int64\n",
      "Name           891 non-null object\n",
      "Sex            891 non-null object\n",
      "Age            714 non-null float64\n",
      "SibSp          891 non-null int64\n",
      "Parch          891 non-null int64\n",
      "Ticket         891 non-null object\n",
      "Fare           891 non-null float64\n",
      "Cabin          204 non-null object\n",
      "Embarked       889 non-null object\n",
      "dtypes: float64(2), int64(5), object(5)\n",
      "memory usage: 83.6+ KB\n"
     ]
    }
   ],
   "source": [
    "df_explore.info()"
   ]
  },
  {
   "cell_type": "code",
   "execution_count": 266,
   "metadata": {},
   "outputs": [
    {
     "data": {
      "text/html": [
       "<div>\n",
       "<style scoped>\n",
       "    .dataframe tbody tr th:only-of-type {\n",
       "        vertical-align: middle;\n",
       "    }\n",
       "\n",
       "    .dataframe tbody tr th {\n",
       "        vertical-align: top;\n",
       "    }\n",
       "\n",
       "    .dataframe thead th {\n",
       "        text-align: right;\n",
       "    }\n",
       "</style>\n",
       "<table border=\"1\" class=\"dataframe\">\n",
       "  <thead>\n",
       "    <tr style=\"text-align: right;\">\n",
       "      <th></th>\n",
       "      <th>PassengerId</th>\n",
       "      <th>Survived</th>\n",
       "      <th>Pclass</th>\n",
       "      <th>Name</th>\n",
       "      <th>Sex</th>\n",
       "      <th>Age</th>\n",
       "      <th>SibSp</th>\n",
       "      <th>Parch</th>\n",
       "      <th>Ticket</th>\n",
       "      <th>Fare</th>\n",
       "      <th>Cabin</th>\n",
       "      <th>Embarked</th>\n",
       "    </tr>\n",
       "  </thead>\n",
       "  <tbody>\n",
       "    <tr>\n",
       "      <th>0</th>\n",
       "      <td>1</td>\n",
       "      <td>0</td>\n",
       "      <td>3</td>\n",
       "      <td>Braund, Mr. Owen Harris</td>\n",
       "      <td>male</td>\n",
       "      <td>22.0</td>\n",
       "      <td>1</td>\n",
       "      <td>0</td>\n",
       "      <td>A/5 21171</td>\n",
       "      <td>7.2500</td>\n",
       "      <td>NaN</td>\n",
       "      <td>S</td>\n",
       "    </tr>\n",
       "    <tr>\n",
       "      <th>1</th>\n",
       "      <td>2</td>\n",
       "      <td>1</td>\n",
       "      <td>1</td>\n",
       "      <td>Cumings, Mrs. John Bradley (Florence Briggs Th...</td>\n",
       "      <td>female</td>\n",
       "      <td>38.0</td>\n",
       "      <td>1</td>\n",
       "      <td>0</td>\n",
       "      <td>PC 17599</td>\n",
       "      <td>71.2833</td>\n",
       "      <td>C85</td>\n",
       "      <td>C</td>\n",
       "    </tr>\n",
       "    <tr>\n",
       "      <th>2</th>\n",
       "      <td>3</td>\n",
       "      <td>1</td>\n",
       "      <td>3</td>\n",
       "      <td>Heikkinen, Miss. Laina</td>\n",
       "      <td>female</td>\n",
       "      <td>26.0</td>\n",
       "      <td>0</td>\n",
       "      <td>0</td>\n",
       "      <td>STON/O2. 3101282</td>\n",
       "      <td>7.9250</td>\n",
       "      <td>NaN</td>\n",
       "      <td>S</td>\n",
       "    </tr>\n",
       "  </tbody>\n",
       "</table>\n",
       "</div>"
      ],
      "text/plain": [
       "   PassengerId  Survived  Pclass  \\\n",
       "0            1         0       3   \n",
       "1            2         1       1   \n",
       "2            3         1       3   \n",
       "\n",
       "                                                Name     Sex   Age  SibSp  \\\n",
       "0                            Braund, Mr. Owen Harris    male  22.0      1   \n",
       "1  Cumings, Mrs. John Bradley (Florence Briggs Th...  female  38.0      1   \n",
       "2                             Heikkinen, Miss. Laina  female  26.0      0   \n",
       "\n",
       "   Parch            Ticket     Fare Cabin Embarked  \n",
       "0      0         A/5 21171   7.2500   NaN        S  \n",
       "1      0          PC 17599  71.2833   C85        C  \n",
       "2      0  STON/O2. 3101282   7.9250   NaN        S  "
      ]
     },
     "execution_count": 266,
     "metadata": {},
     "output_type": "execute_result"
    }
   ],
   "source": [
    "df_explore.head(3)"
   ]
  },
  {
   "cell_type": "markdown",
   "metadata": {},
   "source": [
    "#### Check Null or missing values\n",
    "#### Age (687), Cabin (177), and Embarked (2) contains Null values"
   ]
  },
  {
   "cell_type": "code",
   "execution_count": 267,
   "metadata": {},
   "outputs": [
    {
     "data": {
      "text/plain": [
       "Cabin          687\n",
       "Age            177\n",
       "Embarked         2\n",
       "Fare             0\n",
       "Ticket           0\n",
       "Parch            0\n",
       "SibSp            0\n",
       "Sex              0\n",
       "Name             0\n",
       "Pclass           0\n",
       "Survived         0\n",
       "PassengerId      0\n",
       "dtype: int64"
      ]
     },
     "execution_count": 267,
     "metadata": {},
     "output_type": "execute_result"
    }
   ],
   "source": [
    "df_explore.isnull().sum().sort_values(ascending=False)"
   ]
  },
  {
   "cell_type": "markdown",
   "metadata": {},
   "source": [
    "\n",
    "#### How many survived?"
   ]
  },
  {
   "cell_type": "code",
   "execution_count": 268,
   "metadata": {},
   "outputs": [
    {
     "data": {
      "image/png": "[encoded data removed]",
      "text/plain": [
       "<matplotlib.figure.Figure at 0x1c56c9954e0>"
      ]
     },
     "metadata": {},
     "output_type": "display_data"
    }
   ],
   "source": [
    "fig, ax = plt.subplots(nrows=3, ncols=2)\n",
    "df_explore.groupby('Survived')['Survived'].count().plot.pie(autopct='%1.1f%%', ax=ax[0,0], figsize=(8,5))\n",
    "ax[0,0].set_title('Survived')\n",
    "sns.countplot(x='Survived', data=df_explore, ax=ax[0,1])\n",
    "ax[0,1].set_title('Survived Count')\n",
    "sns.countplot(x='Sex', data=df_explore[df_explore['Survived'] == 1], ax=ax[1,0])\n",
    "ax[1,0].set_title('Survived by Sex')\n",
    "sns.countplot(x='Pclass', data=df_explore[df_explore['Survived'] == 1], ax=ax[1,1])\n",
    "ax[1,1].set_title('Survived by Pclass')\n",
    "sns.countplot(x='Parch', data=df_explore[df_explore['Survived'] == 1], ax=ax[2,0])\n",
    "ax[2,0].set_title('Survived by Parch')\n",
    "sns.countplot(x='SibSp', data=df_explore[df_explore['Survived'] == 1], ax=ax[1,1])\n",
    "ax[2,1].set_title('Survived by SibSp')\n",
    "plt.tight_layout()"
   ]
  },
  {
   "cell_type": "code",
   "execution_count": 334,
   "metadata": {},
   "outputs": [
    {
     "data": {
      "image/png": "[encoded data removed]",
      "text/plain": [
       "<matplotlib.figure.Figure at 0x1c570636358>"
      ]
     },
     "metadata": {},
     "output_type": "display_data"
    }
   ],
   "source": [
    "fig, ax = plt.subplots(figsize=(15,3))\n",
    "sns.boxplot(df_explore['Fare'])\n",
    "ax.set_xscale('log')\n",
    "ax.set_xticks([5, 10, 15, 20, 25, 30, 35, 40, 50, 60, 70, 80, 90, 100, 150, 200, 250, 300, 600])\n",
    "ax.get_xaxis().set_major_formatter(mticker.ScalarFormatter())"
   ]
  },
  {
   "cell_type": "markdown",
   "metadata": {},
   "source": [
    "## Feature Engineering"
   ]
  },
  {
   "cell_type": "markdown",
   "metadata": {},
   "source": [
    "#### Extract Title from Name"
   ]
  },
  {
   "cell_type": "code",
   "execution_count": 269,
   "metadata": {},
   "outputs": [
    {
     "data": {
      "text/plain": [
       "0                              Braund, Mr. Owen Harris\n",
       "1    Cumings, Mrs. John Bradley (Florence Briggs Th...\n",
       "2                               Heikkinen, Miss. Laina\n",
       "3         Futrelle, Mrs. Jacques Heath (Lily May Peel)\n",
       "4                             Allen, Mr. William Henry\n",
       "Name: Name, dtype: object"
      ]
     },
     "execution_count": 269,
     "metadata": {},
     "output_type": "execute_result"
    }
   ],
   "source": [
    "df_explore['Name'].head()"
   ]
  },
  {
   "cell_type": "code",
   "execution_count": 270,
   "metadata": {},
   "outputs": [],
   "source": [
    "df_explore['Title'] = df_explore.Name.apply(lambda x: re.search(', (\\w+)', x).group(1))"
   ]
  },
  {
   "cell_type": "code",
   "execution_count": 271,
   "metadata": {},
   "outputs": [
    {
     "data": {
      "text/html": [
       "<style  type=\"text/css\" >\n",
       "    #T_2f43e1f4_5cb3_11e8_90aa_c49ded0f23c1row0_col0 {\n",
       "            background-color:  #008066;\n",
       "        }    #T_2f43e1f4_5cb3_11e8_90aa_c49ded0f23c1row1_col0 {\n",
       "            background-color:  #a6d266;\n",
       "        }    #T_2f43e1f4_5cb3_11e8_90aa_c49ded0f23c1row2_col0 {\n",
       "            background-color:  #c2e066;\n",
       "        }    #T_2f43e1f4_5cb3_11e8_90aa_c49ded0f23c1row3_col0 {\n",
       "            background-color:  #ecf666;\n",
       "        }    #T_2f43e1f4_5cb3_11e8_90aa_c49ded0f23c1row4_col0 {\n",
       "            background-color:  #fdfe66;\n",
       "        }    #T_2f43e1f4_5cb3_11e8_90aa_c49ded0f23c1row5_col0 {\n",
       "            background-color:  #fdfe66;\n",
       "        }    #T_2f43e1f4_5cb3_11e8_90aa_c49ded0f23c1row6_col0 {\n",
       "            background-color:  #ffff66;\n",
       "        }    #T_2f43e1f4_5cb3_11e8_90aa_c49ded0f23c1row7_col0 {\n",
       "            background-color:  #ffff66;\n",
       "        }    #T_2f43e1f4_5cb3_11e8_90aa_c49ded0f23c1row8_col0 {\n",
       "            background-color:  #ffff66;\n",
       "        }    #T_2f43e1f4_5cb3_11e8_90aa_c49ded0f23c1row9_col0 {\n",
       "            background-color:  #ffff66;\n",
       "        }</style>  \n",
       "<table id=\"T_2f43e1f4_5cb3_11e8_90aa_c49ded0f23c1\" > \n",
       "<thead>    <tr> \n",
       "        <th class=\"blank level0\" ></th> \n",
       "        <th class=\"col_heading level0 col0\" >Title</th> \n",
       "    </tr></thead> \n",
       "<tbody>    <tr> \n",
       "        <th id=\"T_2f43e1f4_5cb3_11e8_90aa_c49ded0f23c1level0_row0\" class=\"row_heading level0 row0\" >Mr</th> \n",
       "        <td id=\"T_2f43e1f4_5cb3_11e8_90aa_c49ded0f23c1row0_col0\" class=\"data row0 col0\" >517</td> \n",
       "    </tr>    <tr> \n",
       "        <th id=\"T_2f43e1f4_5cb3_11e8_90aa_c49ded0f23c1level0_row1\" class=\"row_heading level0 row1\" >Miss</th> \n",
       "        <td id=\"T_2f43e1f4_5cb3_11e8_90aa_c49ded0f23c1row1_col0\" class=\"data row1 col0\" >182</td> \n",
       "    </tr>    <tr> \n",
       "        <th id=\"T_2f43e1f4_5cb3_11e8_90aa_c49ded0f23c1level0_row2\" class=\"row_heading level0 row2\" >Mrs</th> \n",
       "        <td id=\"T_2f43e1f4_5cb3_11e8_90aa_c49ded0f23c1row2_col0\" class=\"data row2 col0\" >125</td> \n",
       "    </tr>    <tr> \n",
       "        <th id=\"T_2f43e1f4_5cb3_11e8_90aa_c49ded0f23c1level0_row3\" class=\"row_heading level0 row3\" >Master</th> \n",
       "        <td id=\"T_2f43e1f4_5cb3_11e8_90aa_c49ded0f23c1row3_col0\" class=\"data row3 col0\" >40</td> \n",
       "    </tr>    <tr> \n",
       "        <th id=\"T_2f43e1f4_5cb3_11e8_90aa_c49ded0f23c1level0_row4\" class=\"row_heading level0 row4\" >Dr</th> \n",
       "        <td id=\"T_2f43e1f4_5cb3_11e8_90aa_c49ded0f23c1row4_col0\" class=\"data row4 col0\" >7</td> \n",
       "    </tr>    <tr> \n",
       "        <th id=\"T_2f43e1f4_5cb3_11e8_90aa_c49ded0f23c1level0_row5\" class=\"row_heading level0 row5\" >Rev</th> \n",
       "        <td id=\"T_2f43e1f4_5cb3_11e8_90aa_c49ded0f23c1row5_col0\" class=\"data row5 col0\" >6</td> \n",
       "    </tr>    <tr> \n",
       "        <th id=\"T_2f43e1f4_5cb3_11e8_90aa_c49ded0f23c1level0_row6\" class=\"row_heading level0 row6\" >Mlle</th> \n",
       "        <td id=\"T_2f43e1f4_5cb3_11e8_90aa_c49ded0f23c1row6_col0\" class=\"data row6 col0\" >2</td> \n",
       "    </tr>    <tr> \n",
       "        <th id=\"T_2f43e1f4_5cb3_11e8_90aa_c49ded0f23c1level0_row7\" class=\"row_heading level0 row7\" >Major</th> \n",
       "        <td id=\"T_2f43e1f4_5cb3_11e8_90aa_c49ded0f23c1row7_col0\" class=\"data row7 col0\" >2</td> \n",
       "    </tr>    <tr> \n",
       "        <th id=\"T_2f43e1f4_5cb3_11e8_90aa_c49ded0f23c1level0_row8\" class=\"row_heading level0 row8\" >Col</th> \n",
       "        <td id=\"T_2f43e1f4_5cb3_11e8_90aa_c49ded0f23c1row8_col0\" class=\"data row8 col0\" >2</td> \n",
       "    </tr>    <tr> \n",
       "        <th id=\"T_2f43e1f4_5cb3_11e8_90aa_c49ded0f23c1level0_row9\" class=\"row_heading level0 row9\" >Sir</th> \n",
       "        <td id=\"T_2f43e1f4_5cb3_11e8_90aa_c49ded0f23c1row9_col0\" class=\"data row9 col0\" >1</td> \n",
       "    </tr></tbody> \n",
       "</table> "
      ],
      "text/plain": [
       "<pandas.io.formats.style.Styler at 0x1c56603c048>"
      ]
     },
     "execution_count": 271,
     "metadata": {},
     "output_type": "execute_result"
    }
   ],
   "source": [
    "df_explore['Title'].value_counts()[:10].to_frame().style.background_gradient('summer_r')"
   ]
  },
  {
   "cell_type": "markdown",
   "metadata": {},
   "source": [
    "#### Extract Age Category from Age"
   ]
  },
  {
   "cell_type": "code",
   "execution_count": 272,
   "metadata": {},
   "outputs": [],
   "source": [
    "df_explore['Age'][df_explore['Age'].isnull()] = -1\n",
    "cut_points = [-2,0,5,12,18,35,60,100]\n",
    "label_names = [\"Missing\",\"Infant\",\"Child\",\"Teenager\",\"Young Adult\",\"Adult\",\"Senior\"]\n",
    "df_explore['Age_Label'] = pd.cut(df_explore['Age'], cut_points, labels=label_names)\n",
    "df_explore['Age_Label'] = df_explore['Age_Label'].astype(CategoricalDtype(categories=label_names, ordered=True))"
   ]
  },
  {
   "cell_type": "code",
   "execution_count": 273,
   "metadata": {},
   "outputs": [
    {
     "data": {
      "text/html": [
       "<style  type=\"text/css\" >\n",
       "    #T_2fbbcd00_5cb3_11e8_9238_c49ded0f23c1row0_col0 {\n",
       "            background-color:  #ffff66;\n",
       "        }    #T_2fbbcd00_5cb3_11e8_9238_c49ded0f23c1row1_col0 {\n",
       "            background-color:  #83c166;\n",
       "        }    #T_2fbbcd00_5cb3_11e8_9238_c49ded0f23c1row2_col0 {\n",
       "            background-color:  #76bb66;\n",
       "        }    #T_2fbbcd00_5cb3_11e8_9238_c49ded0f23c1row3_col0 {\n",
       "            background-color:  #249266;\n",
       "        }    #T_2fbbcd00_5cb3_11e8_9238_c49ded0f23c1row4_col0 {\n",
       "            background-color:  #108866;\n",
       "        }    #T_2fbbcd00_5cb3_11e8_9238_c49ded0f23c1row5_col0 {\n",
       "            background-color:  #028066;\n",
       "        }    #T_2fbbcd00_5cb3_11e8_9238_c49ded0f23c1row6_col0 {\n",
       "            background-color:  #008066;\n",
       "        }</style>  \n",
       "<table id=\"T_2fbbcd00_5cb3_11e8_9238_c49ded0f23c1\" > \n",
       "<thead>    <tr> \n",
       "        <th class=\"blank level0\" ></th> \n",
       "        <th class=\"col_heading level0 col0\" >Age_Label</th> \n",
       "    </tr></thead> \n",
       "<tbody>    <tr> \n",
       "        <th id=\"T_2fbbcd00_5cb3_11e8_9238_c49ded0f23c1level0_row0\" class=\"row_heading level0 row0\" >Young Adult</th> \n",
       "        <td id=\"T_2fbbcd00_5cb3_11e8_9238_c49ded0f23c1row0_col0\" class=\"data row0 col0\" >358</td> \n",
       "    </tr>    <tr> \n",
       "        <th id=\"T_2fbbcd00_5cb3_11e8_9238_c49ded0f23c1level0_row1\" class=\"row_heading level0 row1\" >Adult</th> \n",
       "        <td id=\"T_2fbbcd00_5cb3_11e8_9238_c49ded0f23c1row1_col0\" class=\"data row1 col0\" >195</td> \n",
       "    </tr>    <tr> \n",
       "        <th id=\"T_2fbbcd00_5cb3_11e8_9238_c49ded0f23c1level0_row2\" class=\"row_heading level0 row2\" >Missing</th> \n",
       "        <td id=\"T_2fbbcd00_5cb3_11e8_9238_c49ded0f23c1row2_col0\" class=\"data row2 col0\" >177</td> \n",
       "    </tr>    <tr> \n",
       "        <th id=\"T_2fbbcd00_5cb3_11e8_9238_c49ded0f23c1level0_row3\" class=\"row_heading level0 row3\" >Teenager</th> \n",
       "        <td id=\"T_2fbbcd00_5cb3_11e8_9238_c49ded0f23c1row3_col0\" class=\"data row3 col0\" >70</td> \n",
       "    </tr>    <tr> \n",
       "        <th id=\"T_2fbbcd00_5cb3_11e8_9238_c49ded0f23c1level0_row4\" class=\"row_heading level0 row4\" >Infant</th> \n",
       "        <td id=\"T_2fbbcd00_5cb3_11e8_9238_c49ded0f23c1row4_col0\" class=\"data row4 col0\" >44</td> \n",
       "    </tr>    <tr> \n",
       "        <th id=\"T_2fbbcd00_5cb3_11e8_9238_c49ded0f23c1level0_row5\" class=\"row_heading level0 row5\" >Child</th> \n",
       "        <td id=\"T_2fbbcd00_5cb3_11e8_9238_c49ded0f23c1row5_col0\" class=\"data row5 col0\" >25</td> \n",
       "    </tr>    <tr> \n",
       "        <th id=\"T_2fbbcd00_5cb3_11e8_9238_c49ded0f23c1level0_row6\" class=\"row_heading level0 row6\" >Senior</th> \n",
       "        <td id=\"T_2fbbcd00_5cb3_11e8_9238_c49ded0f23c1row6_col0\" class=\"data row6 col0\" >22</td> \n",
       "    </tr></tbody> \n",
       "</table> "
      ],
      "text/plain": [
       "<pandas.io.formats.style.Styler at 0x1c55e112ba8>"
      ]
     },
     "execution_count": 273,
     "metadata": {},
     "output_type": "execute_result"
    }
   ],
   "source": [
    "df_explore['Age_Label'].value_counts().to_frame().style.background_gradient(cmap='summer')"
   ]
  },
  {
   "cell_type": "code",
   "execution_count": 274,
   "metadata": {},
   "outputs": [
    {
     "data": {
      "image/png": "[encoded data removed]",
      "text/plain": [
       "<matplotlib.figure.Figure at 0x1c55e12e940>"
      ]
     },
     "metadata": {},
     "output_type": "display_data"
    }
   ],
   "source": [
    "fig, ax = plt.subplots(nrows=1, ncols=2)\n",
    "plt.subplot(1,2,1)\n",
    "df_explore['Age_Label'].value_counts().plot.pie(autopct='%1.1f%%', figsize=(12,6))\n",
    "plt.subplot(1,2,2)\n",
    "# df_explore['Age'].plot.hist(bins=25, figsize=(12,5))\n",
    "a2 = sns.countplot(x='Age_Label', hue='Sex', data=df_explore)\n",
    "plt.xticks(rotation=45)\n",
    "plt.margins(0.2)"
   ]
  },
  {
   "cell_type": "markdown",
   "metadata": {},
   "source": [
    "#### Extract TotalFamilyMember from Parch and SibSp"
   ]
  },
  {
   "cell_type": "code",
   "execution_count": 275,
   "metadata": {},
   "outputs": [],
   "source": [
    "df_explore['TtlFamMbr'] = df_explore['Parch'] + df_explore['SibSp']"
   ]
  },
  {
   "cell_type": "code",
   "execution_count": 276,
   "metadata": {},
   "outputs": [
    {
     "data": {
      "text/plain": [
       "<matplotlib.axes._subplots.AxesSubplot at 0x1c55e12e6a0>"
      ]
     },
     "execution_count": 276,
     "metadata": {},
     "output_type": "execute_result"
    },
    {
     "data": {
      "image/png": "[encoded data removed]",
      "text/plain": [
       "<matplotlib.figure.Figure at 0x1c56547ec88>"
      ]
     },
     "metadata": {},
     "output_type": "display_data"
    }
   ],
   "source": [
    "df_explore['TtlFamMbr'].value_counts().plot.bar()"
   ]
  },
  {
   "cell_type": "markdown",
   "metadata": {},
   "source": [
    "#### Working on cleaning up Sex"
   ]
  },
  {
   "cell_type": "code",
   "execution_count": 277,
   "metadata": {},
   "outputs": [
    {
     "name": "stdout",
     "output_type": "stream",
     "text": [
      "<class 'pandas.core.frame.DataFrame'>\n",
      "RangeIndex: 891 entries, 0 to 890\n",
      "Data columns (total 15 columns):\n",
      "PassengerId    891 non-null int64\n",
      "Survived       891 non-null int64\n",
      "Pclass         891 non-null int64\n",
      "Name           891 non-null object\n",
      "Sex            891 non-null object\n",
      "Age            891 non-null float64\n",
      "SibSp          891 non-null int64\n",
      "Parch          891 non-null int64\n",
      "Ticket         891 non-null object\n",
      "Fare           891 non-null float64\n",
      "Cabin          204 non-null object\n",
      "Embarked       889 non-null object\n",
      "Title          891 non-null object\n",
      "Age_Label      891 non-null category\n",
      "TtlFamMbr      891 non-null int64\n",
      "dtypes: category(1), float64(2), int64(6), object(6)\n",
      "memory usage: 98.8+ KB\n"
     ]
    }
   ],
   "source": [
    "df_explore.info()"
   ]
  },
  {
   "cell_type": "markdown",
   "metadata": {},
   "source": [
    "#### Working on cleaning up Age"
   ]
  },
  {
   "cell_type": "code",
   "execution_count": 278,
   "metadata": {},
   "outputs": [
    {
     "data": {
      "image/png": "[encoded data removed]",
      "text/plain": [
       "<matplotlib.figure.Figure at 0x1c561724278>"
      ]
     },
     "metadata": {},
     "output_type": "display_data"
    }
   ],
   "source": [
    "mean_age_by_title = df_explore[df_explore['Age'] != -1].groupby(['Title'])['Age'].mean()\n",
    "mean_age_by_title.plot.bar();"
   ]
  },
  {
   "cell_type": "code",
   "execution_count": 279,
   "metadata": {},
   "outputs": [],
   "source": [
    "df_explore[df_explore['Age'] == -1]['Age'] = None\n",
    "df_explore['Age'] = df_explore['Age'].fillna(df_explore['Title'].map(mean_age_by_title))"
   ]
  },
  {
   "cell_type": "markdown",
   "metadata": {},
   "source": [
    "#### Working on cleaning up Embarked"
   ]
  },
  {
   "cell_type": "code",
   "execution_count": 336,
   "metadata": {},
   "outputs": [],
   "source": [
    "df_explore['Embarked'] = df_explore['Embarked'].fillna(df_explore['Embarked'].value_counts().index[0])"
   ]
  },
  {
   "cell_type": "code",
   "execution_count": null,
   "metadata": {},
   "outputs": [],
   "source": []
  },
  {
   "cell_type": "code",
   "execution_count": null,
   "metadata": {},
   "outputs": [],
   "source": []
  },
  {
   "cell_type": "markdown",
   "metadata": {},
   "source": [
    "#### All dataframe columns including derived features"
   ]
  },
  {
   "cell_type": "code",
   "execution_count": 280,
   "metadata": {},
   "outputs": [
    {
     "name": "stdout",
     "output_type": "stream",
     "text": [
      "<class 'pandas.core.frame.DataFrame'>\n",
      "RangeIndex: 891 entries, 0 to 890\n",
      "Data columns (total 15 columns):\n",
      "PassengerId    891 non-null int64\n",
      "Survived       891 non-null int64\n",
      "Pclass         891 non-null int64\n",
      "Name           891 non-null object\n",
      "Sex            891 non-null object\n",
      "Age            891 non-null float64\n",
      "SibSp          891 non-null int64\n",
      "Parch          891 non-null int64\n",
      "Ticket         891 non-null object\n",
      "Fare           891 non-null float64\n",
      "Cabin          204 non-null object\n",
      "Embarked       889 non-null object\n",
      "Title          891 non-null object\n",
      "Age_Label      891 non-null category\n",
      "TtlFamMbr      891 non-null int64\n",
      "dtypes: category(1), float64(2), int64(6), object(6)\n",
      "memory usage: 98.8+ KB\n"
     ]
    }
   ],
   "source": [
    "df_explore.info()"
   ]
  },
  {
   "cell_type": "code",
   "execution_count": null,
   "metadata": {},
   "outputs": [],
   "source": []
  },
  {
   "cell_type": "code",
   "execution_count": null,
   "metadata": {},
   "outputs": [],
   "source": []
  }
 ],
 "metadata": {
  "kernelspec": {
   "display_name": "Python 3",
   "language": "python",
   "name": "python3"
  },
  "language_info": {
   "codemirror_mode": {
    "name": "ipython",
    "version": 3
   },
   "file_extension": ".py",
   "mimetype": "text/x-python",
   "name": "python",
   "nbconvert_exporter": "python",
   "pygments_lexer": "ipython3",
   "version": "3.6.4"
  }
 },
 "nbformat": 4,
 "nbformat_minor": 2
}
