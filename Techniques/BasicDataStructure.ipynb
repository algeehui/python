{
 "cells": [
  {
   "cell_type": "markdown",
   "metadata": {},
   "source": [
    "## Stack"
   ]
  },
  {
   "cell_type": "code",
   "execution_count": 55,
   "metadata": {},
   "outputs": [],
   "source": [
    "class Stack:\n",
    "    def __init__(self):\n",
    "        self.stack = []\n",
    "    def push(self, value): \n",
    "        if value not in self.stack:\n",
    "            self.stack.append(value)\n",
    "            return True\n",
    "        else:\n",
    "            return False\n",
    "    def pop(self):\n",
    "        if len(self.stack) > 0:\n",
    "            return self.stack.pop(len(self.stack) - 1)\n",
    "        else:\n",
    "            return \"No element in the Stack\"\n",
    "        #         tmpNode = self.stack[len(self.stack) - 1]\n",
    "        #         del self.stack[len(self.stack) - 1]\n",
    "        #         return tmpNode\n",
    "    def peek(self):\n",
    "        if len(self.stack) > 0:\n",
    "            return self.stack[len(self.stack) - 1]\n",
    "        else:\n",
    "            return None"
   ]
  },
  {
   "cell_type": "code",
   "execution_count": 56,
   "metadata": {},
   "outputs": [
    {
     "name": "stdout",
     "output_type": "stream",
     "text": [
      "True\n",
      "True\n",
      "True\n"
     ]
    }
   ],
   "source": [
    "mystack = Stack()\n",
    "print(mystack.push(5))\n",
    "print(mystack.push(8))\n",
    "print(mystack.push(3))"
   ]
  },
  {
   "cell_type": "code",
   "execution_count": 57,
   "metadata": {},
   "outputs": [
    {
     "name": "stdout",
     "output_type": "stream",
     "text": [
      "3\n"
     ]
    }
   ],
   "source": [
    "print(mystack.peek())"
   ]
  },
  {
   "cell_type": "code",
   "execution_count": 33,
   "metadata": {},
   "outputs": [
    {
     "name": "stdout",
     "output_type": "stream",
     "text": [
      "3\n",
      "8\n",
      "5\n",
      "No element in the Stack\n"
     ]
    }
   ],
   "source": [
    "print(mystack.pop())\n",
    "print(mystack.pop())\n",
    "print(mystack.pop())\n",
    "print(mystack.pop())"
   ]
  },
  {
   "cell_type": "code",
   "execution_count": null,
   "metadata": {},
   "outputs": [],
   "source": []
  },
  {
   "cell_type": "markdown",
   "metadata": {},
   "source": [
    "## Queue"
   ]
  },
  {
   "cell_type": "code",
   "execution_count": 52,
   "metadata": {},
   "outputs": [],
   "source": [
    "class Queue:\n",
    "    def __init__(self):\n",
    "        self.list = []\n",
    "    def enqueue(self, value):\n",
    "        self.list.append(value)\n",
    "    def dequeue(self):\n",
    "        if len(self.list) > 0:\n",
    "            tmpNode = self.list[0]\n",
    "            del self.list[0]\n",
    "            return tmpNode\n",
    "        else:\n",
    "            return None\n",
    "    #             return self.list.pop(0)\n",
    "            "
   ]
  },
  {
   "cell_type": "code",
   "execution_count": 53,
   "metadata": {},
   "outputs": [
    {
     "name": "stdout",
     "output_type": "stream",
     "text": [
      "None\n",
      "None\n",
      "None\n"
     ]
    }
   ],
   "source": [
    "myQueue = Queue()\n",
    "print(myQueue.enqueue(5))\n",
    "print(myQueue.enqueue(12))\n",
    "print(myQueue.enqueue(43))"
   ]
  },
  {
   "cell_type": "code",
   "execution_count": 54,
   "metadata": {},
   "outputs": [
    {
     "name": "stdout",
     "output_type": "stream",
     "text": [
      "5\n",
      "12\n",
      "43\n",
      "None\n"
     ]
    }
   ],
   "source": [
    "print(myQueue.dequeue())\n",
    "print(myQueue.dequeue())\n",
    "print(myQueue.dequeue())\n",
    "print(myQueue.dequeue())"
   ]
  },
  {
   "cell_type": "code",
   "execution_count": null,
   "metadata": {},
   "outputs": [],
   "source": []
  },
  {
   "cell_type": "markdown",
   "metadata": {},
   "source": [
    "## Single Linked List"
   ]
  },
  {
   "cell_type": "code",
   "execution_count": 205,
   "metadata": {},
   "outputs": [],
   "source": [
    "class Node:\n",
    "    def __init__(self, value):\n",
    "        self.value = value\n",
    "        self.next = None\n",
    "\n",
    "class LinkedList:\n",
    "    def __init__(self):\n",
    "        self.headNode = None\n",
    "    def __len__(self):\n",
    "        tmpNode = self.headNode\n",
    "        i = 1\n",
    "        while tmpNode.next is not None:\n",
    "            tmpNode = tmpNode.next\n",
    "            i += 1\n",
    "        return i\n",
    "    def listNode(self):\n",
    "        tmpNode = self.headNode\n",
    "        lst = []\n",
    "        while tmpNode is not None:\n",
    "            lst.append(tmpNode.value)\n",
    "            tmpNode = tmpNode.next\n",
    "        print(lst)\n",
    "    def insertAtHead(self, node):\n",
    "        tmpNode = self.headNode\n",
    "        self.headNode = node\n",
    "        node.next = tmpNode\n",
    "    def insertAtTail(self, node):\n",
    "        lastNode = self.headNode\n",
    "        while lastNode.next is not None: \n",
    "            lastNode = lastNode.next\n",
    "        lastNode.next = node\n",
    "    def removeNode(self, node):\n",
    "        if self.headNode.value == node.value and self.headNode.next is not None: \n",
    "            self.headNode = self.headNode.next\n",
    "            return True\n",
    "        elif self.headNode.value == node.value and self.headNode.next is None: \n",
    "            self.headNode = None\n",
    "            return True\n",
    "        \n",
    "        currNode = self.headNode\n",
    "        while currNode.next is not None:\n",
    "            if currNode.next.value == node.value and currNode.next.next is not None:\n",
    "                currNode.next = currNode.next.next\n",
    "                return True\n",
    "            elif currNode.next.value == node.value and currNode.next.next is not Node:\n",
    "                currNode.next = None\n",
    "                return True\n",
    "            currNode = currNode.next\n",
    "        return False\n",
    "        "
   ]
  },
  {
   "cell_type": "code",
   "execution_count": 206,
   "metadata": {},
   "outputs": [],
   "source": [
    "myLList = LinkedList()\n",
    "myLList.headNode = myNode1\n",
    "myNode1 = Node(5)"
   ]
  },
  {
   "cell_type": "code",
   "execution_count": 207,
   "metadata": {},
   "outputs": [
    {
     "name": "stdout",
     "output_type": "stream",
     "text": [
      "[5, 10, 15]\n",
      "3\n"
     ]
    }
   ],
   "source": [
    "myNode2 = Node(10)\n",
    "myNode3 = Node(15)\n",
    "myNode1.next = myNode2\n",
    "myNode2.next = myNode3\n",
    "myLList.listNode()\n",
    "print(len(myLList))"
   ]
  },
  {
   "cell_type": "code",
   "execution_count": 208,
   "metadata": {},
   "outputs": [
    {
     "name": "stdout",
     "output_type": "stream",
     "text": [
      "[2, 5, 10, 15]\n",
      "4\n"
     ]
    }
   ],
   "source": [
    "myNode4 = Node(2)\n",
    "myLList.insertAtHead(myNode4)\n",
    "myLList.listNode()\n",
    "print(len(myLList))"
   ]
  },
  {
   "cell_type": "code",
   "execution_count": 209,
   "metadata": {},
   "outputs": [
    {
     "name": "stdout",
     "output_type": "stream",
     "text": [
      "[2, 5, 10, 15, 50]\n"
     ]
    }
   ],
   "source": [
    "myNode5 = Node(50)\n",
    "myLList.insertAtTail(myNode5)\n",
    "myLList.listNode()"
   ]
  },
  {
   "cell_type": "code",
   "execution_count": 210,
   "metadata": {},
   "outputs": [
    {
     "name": "stdout",
     "output_type": "stream",
     "text": [
      "True\n",
      "True\n",
      "[5, 10, 50]\n",
      "3\n"
     ]
    }
   ],
   "source": [
    "print(myLList.removeNode(Node(2)))\n",
    "print(myLList.removeNode(Node(15)))\n",
    "myLList.listNode()\n",
    "print(len(myLList))"
   ]
  },
  {
   "cell_type": "markdown",
   "metadata": {},
   "source": [
    "## Binary Tree"
   ]
  },
  {
   "cell_type": "code",
   "execution_count": 17,
   "metadata": {},
   "outputs": [],
   "source": [
    "class Node: \n",
    "    def __init__(self, data, left, right):\n",
    "        self.data = data\n",
    "        self.left = left\n",
    "        self.right = right\n",
    "    def insert(self, data):\n",
    "        if data:\n",
    "            if data < self.data:\n",
    "                if self.left is None: \n",
    "                    self.left = Node(data, None, None)\n",
    "                else: \n",
    "                    self.left.insert(data)\n",
    "            elif data > self.data:\n",
    "                if self.right is None:\n",
    "                    self.right = Node(data, None, None)\n",
    "                else:\n",
    "                    self.right.insert(data)\n",
    "            else: \n",
    "                self.data = data\n",
    "    def printTree(self):\n",
    "        #Pre-order\n",
    "        print(self.data)\n",
    "        if self.left is not None:\n",
    "            self.left.printTree()\n",
    "        if self.right is not None: \n",
    "            self.right.printTree()"
   ]
  },
  {
   "cell_type": "code",
   "execution_count": 20,
   "metadata": {},
   "outputs": [],
   "source": [
    "myRoot = Node(15,None,None)\n",
    "myRoot.insert(20)\n",
    "myRoot.insert(12)\n",
    "myRoot.insert(3)\n",
    "myRoot.insert(13)"
   ]
  },
  {
   "cell_type": "code",
   "execution_count": 21,
   "metadata": {},
   "outputs": [
    {
     "name": "stdout",
     "output_type": "stream",
     "text": [
      "15\n",
      "12\n",
      "3\n",
      "13\n",
      "20\n"
     ]
    }
   ],
   "source": [
    "myRoot.printTree()"
   ]
  },
  {
   "cell_type": "markdown",
   "metadata": {},
   "source": [
    "## Variable Scope (Global)"
   ]
  },
  {
   "cell_type": "code",
   "execution_count": 24,
   "metadata": {},
   "outputs": [
    {
     "name": "stdout",
     "output_type": "stream",
     "text": [
      "I love Hong Kong\n",
      "I love London\n"
     ]
    }
   ],
   "source": [
    "def f():\n",
    "    s = 'I love Hong Kong'\n",
    "    print(s)\n",
    "\n",
    "s = 'I love London'    \n",
    "f()\n",
    "print(s)"
   ]
  },
  {
   "cell_type": "code",
   "execution_count": 26,
   "metadata": {},
   "outputs": [
    {
     "ename": "UnboundLocalError",
     "evalue": "local variable 's' referenced before assignment",
     "output_type": "error",
     "traceback": [
      "\u001b[1;31m---------------------------------------------------------------------------\u001b[0m",
      "\u001b[1;31mUnboundLocalError\u001b[0m                         Traceback (most recent call last)",
      "\u001b[1;32m<ipython-input-26-0737ab8dfcbe>\u001b[0m in \u001b[0;36m<module>\u001b[1;34m()\u001b[0m\n\u001b[0;32m      6\u001b[0m \u001b[1;33m\u001b[0m\u001b[0m\n\u001b[0;32m      7\u001b[0m \u001b[0ms\u001b[0m \u001b[1;33m=\u001b[0m \u001b[1;34m'I love London'\u001b[0m\u001b[1;33m\u001b[0m\u001b[0m\n\u001b[1;32m----> 8\u001b[1;33m \u001b[0mf\u001b[0m\u001b[1;33m(\u001b[0m\u001b[1;33m)\u001b[0m\u001b[1;33m\u001b[0m\u001b[0m\n\u001b[0m\u001b[0;32m      9\u001b[0m \u001b[0mprint\u001b[0m\u001b[1;33m(\u001b[0m\u001b[0ms\u001b[0m\u001b[1;33m)\u001b[0m\u001b[1;33m\u001b[0m\u001b[0m\n",
      "\u001b[1;32m<ipython-input-26-0737ab8dfcbe>\u001b[0m in \u001b[0;36mf\u001b[1;34m()\u001b[0m\n\u001b[0;32m      1\u001b[0m \u001b[1;32mglobal\u001b[0m \u001b[0ms\u001b[0m\u001b[1;33m\u001b[0m\u001b[0m\n\u001b[0;32m      2\u001b[0m \u001b[1;32mdef\u001b[0m \u001b[0mf\u001b[0m\u001b[1;33m(\u001b[0m\u001b[1;33m)\u001b[0m\u001b[1;33m:\u001b[0m\u001b[1;33m\u001b[0m\u001b[0m\n\u001b[1;32m----> 3\u001b[1;33m     \u001b[0mprint\u001b[0m\u001b[1;33m(\u001b[0m\u001b[0ms\u001b[0m\u001b[1;33m)\u001b[0m\u001b[1;33m\u001b[0m\u001b[0m\n\u001b[0m\u001b[0;32m      4\u001b[0m     \u001b[0ms\u001b[0m \u001b[1;33m=\u001b[0m \u001b[1;34m'I love Hong Kong'\u001b[0m\u001b[1;33m\u001b[0m\u001b[0m\n\u001b[0;32m      5\u001b[0m     \u001b[0mprint\u001b[0m\u001b[1;33m(\u001b[0m\u001b[0ms\u001b[0m\u001b[1;33m)\u001b[0m\u001b[1;33m\u001b[0m\u001b[0m\n",
      "\u001b[1;31mUnboundLocalError\u001b[0m: local variable 's' referenced before assignment"
     ]
    }
   ],
   "source": [
    "global s\n",
    "def f():\n",
    "    print(s)\n",
    "    s = 'I love Hong Kong'\n",
    "    print(s)\n",
    "\n",
    "s = 'I love London'    \n",
    "f()\n",
    "print(s)"
   ]
  },
  {
   "cell_type": "code",
   "execution_count": 28,
   "metadata": {},
   "outputs": [
    {
     "name": "stdout",
     "output_type": "stream",
     "text": [
      "1: I love London\n",
      "2: I love Hong Kong\n",
      "3: I love Hong Kong\n"
     ]
    }
   ],
   "source": [
    "def f():\n",
    "    global s\n",
    "    print(\"1: \" + s)\n",
    "    s = 'I love Hong Kong'\n",
    "    print(\"2: \" + s)\n",
    "\n",
    "s = 'I love London'    \n",
    "f()\n",
    "print(\"3: \" + s)"
   ]
  },
  {
   "cell_type": "code",
   "execution_count": 34,
   "metadata": {},
   "outputs": [
    {
     "name": "stdout",
     "output_type": "stream",
     "text": [
      "15\n",
      "[5, 4, 3, 2, 1]\n"
     ]
    }
   ],
   "source": [
    "def myfunc(i):\n",
    "    global lst\n",
    "    if i == 1:\n",
    "        lst.append(i)\n",
    "        return 1\n",
    "    else:\n",
    "        lst.append(i)\n",
    "        return i + myfunc(i - 1)\n",
    "\n",
    "lst = []\n",
    "print(myfunc(5))\n",
    "print(lst)"
   ]
  },
  {
   "cell_type": "code",
   "execution_count": null,
   "metadata": {},
   "outputs": [],
   "source": []
  }
 ],
 "metadata": {
  "kernelspec": {
   "display_name": "Python 3",
   "language": "python",
   "name": "python3"
  },
  "language_info": {
   "codemirror_mode": {
    "name": "ipython",
    "version": 3
   },
   "file_extension": ".py",
   "mimetype": "text/x-python",
   "name": "python",
   "nbconvert_exporter": "python",
   "pygments_lexer": "ipython3",
   "version": "3.6.4"
  }
 },
 "nbformat": 4,
 "nbformat_minor": 2
}
