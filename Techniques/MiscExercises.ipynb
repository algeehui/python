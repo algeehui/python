{
 "cells": [
  {
   "cell_type": "code",
   "execution_count": 2,
   "metadata": {},
   "outputs": [
    {
     "data": {
      "text/html": [
       "<div>\n",
       "<style scoped>\n",
       "    .dataframe tbody tr th:only-of-type {\n",
       "        vertical-align: middle;\n",
       "    }\n",
       "\n",
       "    .dataframe tbody tr th {\n",
       "        vertical-align: top;\n",
       "    }\n",
       "\n",
       "    .dataframe thead th {\n",
       "        text-align: right;\n",
       "    }\n",
       "</style>\n",
       "<table border=\"1\" class=\"dataframe\">\n",
       "  <thead>\n",
       "    <tr style=\"text-align: right;\">\n",
       "      <th></th>\n",
       "      <th>A</th>\n",
       "      <th>B</th>\n",
       "      <th>C</th>\n",
       "    </tr>\n",
       "  </thead>\n",
       "  <tbody>\n",
       "    <tr>\n",
       "      <th>0</th>\n",
       "      <td>A0</td>\n",
       "      <td>B0</td>\n",
       "      <td>C0</td>\n",
       "    </tr>\n",
       "    <tr>\n",
       "      <th>1</th>\n",
       "      <td>A1</td>\n",
       "      <td>B1</td>\n",
       "      <td>C1</td>\n",
       "    </tr>\n",
       "    <tr>\n",
       "      <th>2</th>\n",
       "      <td>A2</td>\n",
       "      <td>B2</td>\n",
       "      <td>C2</td>\n",
       "    </tr>\n",
       "  </tbody>\n",
       "</table>\n",
       "</div>"
      ],
      "text/plain": [
       "    A   B   C\n",
       "0  A0  B0  C0\n",
       "1  A1  B1  C1\n",
       "2  A2  B2  C2"
      ]
     },
     "execution_count": 2,
     "metadata": {},
     "output_type": "execute_result"
    }
   ],
   "source": [
    "import pandas as pd\n",
    "\n",
    "def make_df(cols, ind):\n",
    "    \"\"\"Quickly make a DataFrame\"\"\"\n",
    "    data = {c: [str(c) + str(i) for i in ind]\n",
    "            for c in cols}\n",
    "    return pd.DataFrame(data, ind)\n",
    "\n",
    "# example DataFrame\n",
    "make_df('ABC', range(3))"
   ]
  },
  {
   "cell_type": "code",
   "execution_count": 6,
   "metadata": {},
   "outputs": [
    {
     "data": {
      "text/html": [
       "<div>\n",
       "<style scoped>\n",
       "    .dataframe tbody tr th:only-of-type {\n",
       "        vertical-align: middle;\n",
       "    }\n",
       "\n",
       "    .dataframe tbody tr th {\n",
       "        vertical-align: top;\n",
       "    }\n",
       "\n",
       "    .dataframe thead th {\n",
       "        text-align: right;\n",
       "    }\n",
       "</style>\n",
       "<table border=\"1\" class=\"dataframe\">\n",
       "  <thead>\n",
       "    <tr style=\"text-align: right;\">\n",
       "      <th></th>\n",
       "      <th>A</th>\n",
       "      <th>B</th>\n",
       "      <th>C</th>\n",
       "    </tr>\n",
       "  </thead>\n",
       "  <tbody>\n",
       "    <tr>\n",
       "      <th>0</th>\n",
       "      <td>1</td>\n",
       "      <td>1</td>\n",
       "      <td>1</td>\n",
       "    </tr>\n",
       "    <tr>\n",
       "      <th>1</th>\n",
       "      <td>2</td>\n",
       "      <td>2</td>\n",
       "      <td>2</td>\n",
       "    </tr>\n",
       "    <tr>\n",
       "      <th>2</th>\n",
       "      <td>3</td>\n",
       "      <td>3</td>\n",
       "      <td>3</td>\n",
       "    </tr>\n",
       "  </tbody>\n",
       "</table>\n",
       "</div>"
      ],
      "text/plain": [
       "   A  B  C\n",
       "0  1  1  1\n",
       "1  2  2  2\n",
       "2  3  3  3"
      ]
     },
     "execution_count": 6,
     "metadata": {},
     "output_type": "execute_result"
    }
   ],
   "source": [
    "# pd.DataFrame({'c': [1,2,3]})\n",
    "pd.DataFrame({c: [1,2,3] for c in 'ABC'})"
   ]
  },
  {
   "cell_type": "code",
   "execution_count": 55,
   "metadata": {},
   "outputs": [],
   "source": [
    "from sklearn.feature_extraction.text import CountVectorizer\n",
    "lst = ['apple', 'orange', 'apple', 'avocardo', 'apple', 'orange', 'fig', 'raisin', 'fig', 'fig', 'fig']\n",
    "vec = CountVectorizer()"
   ]
  },
  {
   "cell_type": "code",
   "execution_count": 51,
   "metadata": {},
   "outputs": [
    {
     "ename": "TypeError",
     "evalue": "_count_vocab() missing 1 required positional argument: 'fixed_vocab'",
     "output_type": "error",
     "traceback": [
      "\u001b[1;31m---------------------------------------------------------------------------\u001b[0m",
      "\u001b[1;31mTypeError\u001b[0m                                 Traceback (most recent call last)",
      "\u001b[1;32m<ipython-input-51-00fd2bdff18b>\u001b[0m in \u001b[0;36m<module>\u001b[1;34m()\u001b[0m\n\u001b[0;32m      2\u001b[0m \u001b[0mvec\u001b[0m\u001b[1;33m.\u001b[0m\u001b[0mtransform\u001b[0m\u001b[1;33m(\u001b[0m\u001b[0mlst\u001b[0m\u001b[1;33m)\u001b[0m\u001b[1;33m\u001b[0m\u001b[0m\n\u001b[0;32m      3\u001b[0m \u001b[0mvec\u001b[0m\u001b[1;33m.\u001b[0m\u001b[0mget_feature_names\u001b[0m\u001b[1;33m(\u001b[0m\u001b[1;33m)\u001b[0m\u001b[1;33m\u001b[0m\u001b[0m\n\u001b[1;32m----> 4\u001b[1;33m \u001b[0mvec\u001b[0m\u001b[1;33m.\u001b[0m\u001b[0m_count_vocab\u001b[0m\u001b[1;33m(\u001b[0m\u001b[1;34m'apple'\u001b[0m\u001b[1;33m)\u001b[0m\u001b[1;33m\u001b[0m\u001b[0m\n\u001b[0m",
      "\u001b[1;31mTypeError\u001b[0m: _count_vocab() missing 1 required positional argument: 'fixed_vocab'"
     ]
    }
   ],
   "source": [
    "vec.fit(lst)\n",
    "vec.transform(lst)\n",
    "vec.get_feature_names()\n",
    "vec._count_vocab('apple')"
   ]
  },
  {
   "cell_type": "code",
   "execution_count": 52,
   "metadata": {},
   "outputs": [],
   "source": [
    "from collections import Counter"
   ]
  },
  {
   "cell_type": "code",
   "execution_count": 60,
   "metadata": {},
   "outputs": [
    {
     "data": {
      "text/plain": [
       "['fig', 'apple']"
      ]
     },
     "execution_count": 60,
     "metadata": {},
     "output_type": "execute_result"
    }
   ],
   "source": [
    "[l[0] for l in Counter(lst).most_common(2)]"
   ]
  },
  {
   "cell_type": "code",
   "execution_count": 71,
   "metadata": {},
   "outputs": [],
   "source": [
    "mydict = dict()\n",
    "mydict['apple'] = 3\n",
    "mydict['orange'] = 5"
   ]
  },
  {
   "cell_type": "code",
   "execution_count": 78,
   "metadata": {},
   "outputs": [],
   "source": [
    "if 'apples' not in mydict.keys():\n",
    "    mydict['apple'] = 0\n",
    "mydict['apple'] +=1"
   ]
  },
  {
   "cell_type": "code",
   "execution_count": 77,
   "metadata": {},
   "outputs": [
    {
     "data": {
      "text/plain": [
       "{'apple': 4, 'orange': 5}"
      ]
     },
     "execution_count": 77,
     "metadata": {},
     "output_type": "execute_result"
    }
   ],
   "source": [
    "mydict"
   ]
  },
  {
   "cell_type": "code",
   "execution_count": 92,
   "metadata": {},
   "outputs": [
    {
     "name": "stdout",
     "output_type": "stream",
     "text": [
      "{'apple': 3, 'orange': 2, 'avocardo': 1, 'fig': 4, 'raisin': 1}\n",
      "dict_items([('apple', 3), ('orange', 2), ('avocardo', 1), ('fig', 4), ('raisin', 1)])\n",
      "[('fig', 4), ('apple', 3), ('orange', 2), ('avocardo', 1), ('raisin', 1)]\n"
     ]
    }
   ],
   "source": [
    "mydict2 = dict()\n",
    "for element in lst:\n",
    "    if element not in mydict2.keys():\n",
    "        mydict2[element] = 1\n",
    "    else:\n",
    "        mydict2[element] += 1\n",
    "print(mydict2)        \n",
    "print(mydict2.items())\n",
    "print(sorted(mydict2.items(), reverse=True, key=lambda t:t[1]))"
   ]
  },
  {
   "cell_type": "code",
   "execution_count": 96,
   "metadata": {},
   "outputs": [
    {
     "name": "stdout",
     "output_type": "stream",
     "text": [
      "('apple', 3)\n",
      "3\n",
      "('orange', 2)\n",
      "2\n",
      "('avocardo', 1)\n",
      "1\n",
      "('fig', 4)\n",
      "4\n",
      "('raisin', 1)\n",
      "1\n"
     ]
    }
   ],
   "source": [
    "for itm in mydict2.items():\n",
    "    print(itm)\n",
    "    print(itm[1])"
   ]
  },
  {
   "cell_type": "markdown",
   "metadata": {},
   "source": [
    "### Exercise 1"
   ]
  },
  {
   "cell_type": "code",
   "execution_count": 157,
   "metadata": {},
   "outputs": [],
   "source": [
    "from numpy.random import randint"
   ]
  },
  {
   "cell_type": "code",
   "execution_count": 154,
   "metadata": {},
   "outputs": [
    {
     "name": "stdout",
     "output_type": "stream",
     "text": [
      "[1, 1, 1, 2]\n",
      "[1, 2, 2]\n",
      "[1, 1, 2, 1]\n",
      "[2, 2, 1]\n",
      "[2, 2, 1]\n"
     ]
    }
   ],
   "source": [
    "for _ in range(5):\n",
    "    N = 5\n",
    "    n = 0\n",
    "    lst = []\n",
    "    while True:\n",
    "        i = randint(1,3)\n",
    "        if i + n < N:\n",
    "            n += i\n",
    "            lst.append(i)\n",
    "        if i + n == N:\n",
    "            n += i\n",
    "            lst.append(i)\n",
    "            break\n",
    "        if i + n > N:\n",
    "            i = N - n\n",
    "            lst.append(i)\n",
    "            break\n",
    "    print(lst)"
   ]
  },
  {
   "cell_type": "code",
   "execution_count": 162,
   "metadata": {},
   "outputs": [
    {
     "name": "stdout",
     "output_type": "stream",
     "text": [
      "[2, 1, 1, 1]\n",
      "[2, 1, 2]\n",
      "[2, 1, 2]\n",
      "[1, 1, 1, 2]\n",
      "[1, 1, 1, 1, 1]\n",
      "[1, 2, 2]\n",
      "[1, 2, 2]\n",
      "[2, 2, 1]\n",
      "[1, 2, 2]\n",
      "[2, 1, 2]\n"
     ]
    }
   ],
   "source": [
    "N = 5\n",
    "for _ in range(10):\n",
    "    n = 0\n",
    "    lst = []\n",
    "    i = randint(1,3)\n",
    "    while True:\n",
    "        if i + n < N:\n",
    "            n += i\n",
    "            lst.append(i)\n",
    "        if i + n > N:\n",
    "            pass        \n",
    "        if i + n == N:\n",
    "            n += i\n",
    "            lst.append(i)\n",
    "            break\n",
    "        i = randint(1,3)\n",
    "    print(lst)"
   ]
  },
  {
   "cell_type": "code",
   "execution_count": null,
   "metadata": {},
   "outputs": [],
   "source": []
  },
  {
   "cell_type": "code",
   "execution_count": 164,
   "metadata": {},
   "outputs": [],
   "source": [
    "mydict = {'carl':40,\n",
    "          'alan':2,\n",
    "          'bob':1,\n",
    "          'danny':3}"
   ]
  },
  {
   "cell_type": "code",
   "execution_count": 165,
   "metadata": {},
   "outputs": [
    {
     "data": {
      "text/plain": [
       "6"
      ]
     },
     "execution_count": 165,
     "metadata": {},
     "output_type": "execute_result"
    }
   ],
   "source": [
    "6%8"
   ]
  },
  {
   "cell_type": "code",
   "execution_count": 170,
   "metadata": {},
   "outputs": [
    {
     "name": "stdout",
     "output_type": "stream",
     "text": [
      "before: m=6 n=8\n",
      "after: m=8 n=6\n",
      "before: m=8 n=6\n",
      "after: m=6 n=2\n",
      "2\n"
     ]
    }
   ],
   "source": [
    "def gcd(m,n):\n",
    "    while m%n != 0:\n",
    "        print('before: m=' + str(m) + ' n=' + str(n))\n",
    "        oldm = m\n",
    "        oldn = n\n",
    "\n",
    "        m = oldn\n",
    "        n = oldm%oldn\n",
    "        print('after: m=' + str(m) + ' n=' + str(n))\n",
    "    return n\n",
    "\n",
    "# print(gcd(20,10))\n",
    "print(gcd(6,8))"
   ]
  },
  {
   "cell_type": "code",
   "execution_count": 167,
   "metadata": {},
   "outputs": [
    {
     "name": "stdout",
     "output_type": "stream",
     "text": [
      "2\n"
     ]
    }
   ],
   "source": [
    "print(gcd(6,8))"
   ]
  },
  {
   "cell_type": "code",
   "execution_count": 190,
   "metadata": {},
   "outputs": [
    {
     "name": "stdout",
     "output_type": "stream",
     "text": [
      "Dir: C:\\Users\\alvin\\Documents\\DAT102x - Data Science Capstone\\.ipynb_checkpoints\n",
      "File: C:\\Users\\alvin\\Documents\\DAT102x - Data Science Capstone\\Analysis_of_Automobile_Prices.pdf\n",
      "File: C:\\Users\\alvin\\Documents\\DAT102x - Data Science Capstone\\final_report - Copy.docx\n",
      "File: C:\\Users\\alvin\\Documents\\DAT102x - Data Science Capstone\\final_report_dat102x_ah.docx\n",
      "File: C:\\Users\\alvin\\Documents\\DAT102x - Data Science Capstone\\final_report_dat102x_ah.pdf\n",
      "File: C:\\Users\\alvin\\Documents\\DAT102x - Data Science Capstone\\final_submission.csv\n",
      "File: C:\\Users\\alvin\\Documents\\DAT102x - Data Science Capstone\\HeartDisease_Model1.ipynb\n",
      "File: C:\\Users\\alvin\\Documents\\DAT102x - Data Science Capstone\\HeartDisease_Prep.ipynb\n",
      "File: C:\\Users\\alvin\\Documents\\DAT102x - Data Science Capstone\\HeartDisease_Questions.ipynb\n",
      "File: C:\\Users\\alvin\\Documents\\DAT102x - Data Science Capstone\\Home.docx\n",
      "File: C:\\Users\\alvin\\Documents\\DAT102x - Data Science Capstone\\Home.pdf\n",
      "File: C:\\Users\\alvin\\Documents\\DAT102x - Data Science Capstone\\iris.pdf\n",
      "File: C:\\Users\\alvin\\Documents\\DAT102x - Data Science Capstone\\iris2.pdf\n",
      "File: C:\\Users\\alvin\\Documents\\DAT102x - Data Science Capstone\\iris3.pdf\n",
      "File: C:\\Users\\alvin\\Documents\\DAT102x - Data Science Capstone\\mydict.pkl\n",
      "File: C:\\Users\\alvin\\Documents\\DAT102x - Data Science Capstone\\PInterestExercise.ipynb\n",
      "File: C:\\Users\\alvin\\Documents\\DAT102x - Data Science Capstone\\ProblemDescription.docx\n",
      "File: C:\\Users\\alvin\\Documents\\DAT102x - Data Science Capstone\\ProblemDescription.pdf\n",
      "Dir: C:\\Users\\alvin\\Documents\\DAT102x - Data Science Capstone\\RapidMiner\n",
      "File: C:\\Users\\alvin\\Documents\\DAT102x - Data Science Capstone\\RapidMiner\\test_cleansed_values.csv\n",
      "File: C:\\Users\\alvin\\Documents\\DAT102x - Data Science Capstone\\RapidMiner\\test_values.csv\n",
      "File: C:\\Users\\alvin\\Documents\\DAT102x - Data Science Capstone\\RapidMiner\\train_cleansed_values.csv\n",
      "File: C:\\Users\\alvin\\Documents\\DAT102x - Data Science Capstone\\RapidMiner\\train_labels.csv\n",
      "File: C:\\Users\\alvin\\Documents\\DAT102x - Data Science Capstone\\RapidMiner\\train_values.csv\n",
      "Dir: C:\\Users\\alvin\\Documents\\DAT102x - Data Science Capstone\\Study\n",
      "File: C:\\Users\\alvin\\Documents\\DAT102x - Data Science Capstone\\submission_format.csv\n",
      "File: C:\\Users\\alvin\\Documents\\DAT102x - Data Science Capstone\\test_cleansed_values.csv\n",
      "File: C:\\Users\\alvin\\Documents\\DAT102x - Data Science Capstone\\test_values.csv\n",
      "File: C:\\Users\\alvin\\Documents\\DAT102x - Data Science Capstone\\train_cleansed_values.csv\n",
      "File: C:\\Users\\alvin\\Documents\\DAT102x - Data Science Capstone\\train_labels.csv\n",
      "File: C:\\Users\\alvin\\Documents\\DAT102x - Data Science Capstone\\train_values.csv\n",
      "File: C:\\Users\\alvin\\Documents\\DAT102x - Data Science Capstone\\tree.dot\n",
      "File: C:\\Users\\alvin\\Documents\\DAT102x - Data Science Capstone\\Untitled.ipynb\n"
     ]
    }
   ],
   "source": [
    "def print_directory_contents(sPath):\n",
    "    import os\n",
    "    import os.path\n",
    "    for content in os.listdir(sPath):\n",
    "        if os.path.isfile(content):\n",
    "            print('File: ' + os.path.join(os.path.abspath(sPath), content))\n",
    "        elif os.path.isdir(content):\n",
    "            print('Dir: ' + os.path.abspath(content))\n",
    "            print_directory_contents(content)\n",
    "            \n",
    "\n",
    "print_directory_contents('.')        \n",
    "    "
   ]
  },
  {
   "cell_type": "code",
   "execution_count": 201,
   "metadata": {},
   "outputs": [],
   "source": [
    "A0 = dict(zip(('a','b','c','d','e'),(1,2,3,4,5)))\n",
    "A1 = range(10)\n",
    "A2 = sorted([i for i in A1 if i in A0])\n",
    "A3 = sorted([A0[s] for s in A0])\n",
    "A4 = [i for i in A1 if i in A3]\n",
    "A5 = {i:i*i for i in A1}\n",
    "A6 = [[i,i*i] for i in A1]"
   ]
  },
  {
   "cell_type": "code",
   "execution_count": 204,
   "metadata": {},
   "outputs": [
    {
     "data": {
      "text/plain": [
       "[1, 2, 3, 4, 5]"
      ]
     },
     "execution_count": 204,
     "metadata": {},
     "output_type": "execute_result"
    }
   ],
   "source": [
    "A3"
   ]
  },
  {
   "cell_type": "code",
   "execution_count": 205,
   "metadata": {},
   "outputs": [
    {
     "data": {
      "text/plain": [
       "[1, 2, 3, 4, 5]"
      ]
     },
     "execution_count": 205,
     "metadata": {},
     "output_type": "execute_result"
    }
   ],
   "source": [
    "[A0[s] for s in A0]"
   ]
  },
  {
   "cell_type": "code",
   "execution_count": 208,
   "metadata": {},
   "outputs": [
    {
     "data": {
      "text/plain": [
       "[[0, 0],\n",
       " [1, 1],\n",
       " [2, 4],\n",
       " [3, 9],\n",
       " [4, 16],\n",
       " [5, 25],\n",
       " [6, 36],\n",
       " [7, 49],\n",
       " [8, 64],\n",
       " [9, 81]]"
      ]
     },
     "execution_count": 208,
     "metadata": {},
     "output_type": "execute_result"
    }
   ],
   "source": [
    "A6"
   ]
  },
  {
   "cell_type": "code",
   "execution_count": 1,
   "metadata": {},
   "outputs": [],
   "source": [
    "from collections import defaultdict"
   ]
  },
  {
   "cell_type": "code",
   "execution_count": 10,
   "metadata": {},
   "outputs": [
    {
     "name": "stdout",
     "output_type": "stream",
     "text": [
      "-1\n",
      "defaultdict(<function <lambda> at 0x000001C230364730>, {'a': 2, 'b': 3, 'aaa': 2, 'bbb': -1})\n"
     ]
    }
   ],
   "source": [
    "myDict = defaultdict(lambda: -1, {'a':2, 'b':3})\n",
    "myDict['aaa'] = 2\n",
    "print(myDict['bbb'])\n",
    "print(myDict)\n"
   ]
  },
  {
   "cell_type": "code",
   "execution_count": null,
   "metadata": {},
   "outputs": [],
   "source": []
  }
 ],
 "metadata": {
  "kernelspec": {
   "display_name": "Python 3",
   "language": "python",
   "name": "python3"
  },
  "language_info": {
   "codemirror_mode": {
    "name": "ipython",
    "version": 3
   },
   "file_extension": ".py",
   "mimetype": "text/x-python",
   "name": "python",
   "nbconvert_exporter": "python",
   "pygments_lexer": "ipython3",
   "version": "3.6.4"
  }
 },
 "nbformat": 4,
 "nbformat_minor": 2
}
