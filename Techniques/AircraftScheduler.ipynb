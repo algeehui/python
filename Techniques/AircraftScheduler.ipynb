{
 "cells": [
  {
   "cell_type": "code",
   "execution_count": 91,
   "metadata": {},
   "outputs": [],
   "source": [
    "class aircraft:\n",
    "    def __init__(self, aircraft_name, aircraft_size, aircraft_type):\n",
    "        self.aircraft_name = aircraft_name\n",
    "        self.aircraft_size = aircraft_size\n",
    "        self.aircraft_type = aircraft_type\n",
    "        self.aircraft_priority = self.__order()\n",
    "    def __repr__(self):\n",
    "        return '{0}: {1} {2} aircraft (priority {3})'.format(self.aircraft_name, self.aircraft_size, \n",
    "                                                             self.aircraft_type, self.aircraft_priority)\n",
    "    def __eq__(self, other):\n",
    "        return self.aircraft_priority == other.aircraft_priority\n",
    "    def __gt__(self, other):\n",
    "        return self.aircraft_priority < other.aircraft_priority\n",
    "    def __ge__(self, other):\n",
    "        return self.aircraft_priority <= other.aircraft_priority\n",
    "    def __lt__(self, other):\n",
    "        return self.aircraft_priority > other.aircraft_priority\n",
    "    def __le__(self, other):\n",
    "        return self.aircraft_priority >= other.aircraft_priority\n",
    "    def __order(self):\n",
    "        if self.aircraft_size.lower() == 'large' and self.aircraft_type.lower() == 'passenger':\n",
    "            return 1\n",
    "        elif self.aircraft_size.lower() == 'small' and self.aircraft_type.lower() == 'passenger':\n",
    "            return 2\n",
    "        elif self.aircraft_size.lower() == 'large' and self.aircraft_type.lower() == 'cargo':\n",
    "            return 3\n",
    "        elif self.aircraft_size.lower() == 'small' and self.aircraft_type.lower() == 'cargo':\n",
    "            return 4\n",
    "        else:\n",
    "            return 999"
   ]
  },
  {
   "cell_type": "code",
   "execution_count": 92,
   "metadata": {},
   "outputs": [],
   "source": [
    "fleet = [aircraft('a0', 'large', 'cargo'),\n",
    "         aircraft('a1', 'large', 'passenger'),\n",
    "         aircraft('a2', 'small', 'cargo'),\n",
    "         aircraft('a3', 'large', 'cargo'),\n",
    "         aircraft('a4', 'small', 'passenger'),\n",
    "         aircraft('a5', 'large', 'cargo'),\n",
    "         aircraft('a6', 'large', 'passenger'),\n",
    "         aircraft('a7', 'small', 'cargo'),\n",
    "         aircraft('a8', 'large', 'passenger'),\n",
    "         aircraft('a9', 'small', 'cargo')]"
   ]
  },
  {
   "cell_type": "code",
   "execution_count": 73,
   "metadata": {},
   "outputs": [
    {
     "name": "stdout",
     "output_type": "stream",
     "text": [
      "a0: large cargo aircraft (priority 3)\n",
      "a3: large cargo aircraft (priority 3)\n",
      "a4: small passenger aircraft (priority 2)\n",
      "a3 == a0:  True\n",
      "a4 == a0:  False\n",
      "a4 > a0:  True\n",
      "a4 < a0:  False\n"
     ]
    }
   ],
   "source": [
    "print(fleet[0])\n",
    "print(fleet[3])\n",
    "print(fleet[4])\n",
    "print('a3 == a0: ', fleet[3] == fleet[0])\n",
    "print('a4 == a0: ', fleet[4] == fleet[0])\n",
    "print('a4 > a0: ', fleet[4] > fleet[0])\n",
    "print('a4 < a0: ', fleet[4] < fleet[0])"
   ]
  },
  {
   "cell_type": "code",
   "execution_count": 117,
   "metadata": {},
   "outputs": [],
   "source": [
    "class aircraftScheduler:\n",
    "    def __init__(self):\n",
    "        self.__list = list()\n",
    "    def __len__(self):\n",
    "        return len(self.__list)\n",
    "    def __iter__(self):\n",
    "        return iter(self.__list)\n",
    "    def dequeue(self):\n",
    "        if len(self.__list) > 0:\n",
    "            return self.__list.pop(0)\n",
    "        else: \n",
    "            return None\n",
    "    def enqueue(self, aircraft):\n",
    "        if len(self.__list) == 0:\n",
    "            print(repr(aircraft), '\\t--- len(self.__list) == 0')\n",
    "            self.__list.insert(0, aircraft)\n",
    "            return\n",
    "                \n",
    "        for i in range(len(self.__list)-1, -1, -1):\n",
    "            if aircraft == self.__list[i]:\n",
    "                print(repr(aircraft), '\\t--- aircraft == self.__list[i]')\n",
    "                self.__list.insert(i + 1, aircraft) # insert after the node\n",
    "                break\n",
    "            elif aircraft > self.__list[i] and i != 0:\n",
    "                print(repr(aircraft), '\\t--- aircraft > self.__list[i] and i != 0')\n",
    "                pass            \n",
    "            elif aircraft > self.__list[i] and i == 0:\n",
    "                print(repr(aircraft), '\\t--- aircraft > self.__list[i] and i == 0')\n",
    "                self.__list.insert(0, aircraft)\n",
    "                break\n",
    "            elif aircraft < self.__list[i]:\n",
    "                print(repr(aircraft), '\\t--- aircraft < self.__list[i]')\n",
    "                self.__list.insert(i + 1, aircraft)\n",
    "                break\n"
   ]
  },
  {
   "cell_type": "code",
   "execution_count": 118,
   "metadata": {},
   "outputs": [
    {
     "name": "stdout",
     "output_type": "stream",
     "text": [
      "a0: large cargo aircraft (priority 3) \t--- len(self.__list) == 0\n",
      "a1: large passenger aircraft (priority 1) \t--- aircraft > self.__list[i] and i == 0\n",
      "a2: small cargo aircraft (priority 4) \t--- aircraft < self.__list[i]\n",
      "a3: large cargo aircraft (priority 3) \t--- aircraft > self.__list[i] and i != 0\n",
      "a3: large cargo aircraft (priority 3) \t--- aircraft == self.__list[i]\n",
      "a4: small passenger aircraft (priority 2) \t--- aircraft > self.__list[i] and i != 0\n",
      "a4: small passenger aircraft (priority 2) \t--- aircraft > self.__list[i] and i != 0\n",
      "a4: small passenger aircraft (priority 2) \t--- aircraft > self.__list[i] and i != 0\n",
      "a4: small passenger aircraft (priority 2) \t--- aircraft < self.__list[i]\n",
      "a5: large cargo aircraft (priority 3) \t--- aircraft > self.__list[i] and i != 0\n",
      "a5: large cargo aircraft (priority 3) \t--- aircraft == self.__list[i]\n",
      "a6: large passenger aircraft (priority 1) \t--- aircraft > self.__list[i] and i != 0\n",
      "a6: large passenger aircraft (priority 1) \t--- aircraft > self.__list[i] and i != 0\n",
      "a6: large passenger aircraft (priority 1) \t--- aircraft > self.__list[i] and i != 0\n",
      "a6: large passenger aircraft (priority 1) \t--- aircraft > self.__list[i] and i != 0\n",
      "a6: large passenger aircraft (priority 1) \t--- aircraft > self.__list[i] and i != 0\n",
      "a6: large passenger aircraft (priority 1) \t--- aircraft == self.__list[i]\n",
      "a7: small cargo aircraft (priority 4) \t--- aircraft == self.__list[i]\n",
      "a8: large passenger aircraft (priority 1) \t--- aircraft > self.__list[i] and i != 0\n",
      "a8: large passenger aircraft (priority 1) \t--- aircraft > self.__list[i] and i != 0\n",
      "a8: large passenger aircraft (priority 1) \t--- aircraft > self.__list[i] and i != 0\n",
      "a8: large passenger aircraft (priority 1) \t--- aircraft > self.__list[i] and i != 0\n",
      "a8: large passenger aircraft (priority 1) \t--- aircraft > self.__list[i] and i != 0\n",
      "a8: large passenger aircraft (priority 1) \t--- aircraft > self.__list[i] and i != 0\n",
      "a8: large passenger aircraft (priority 1) \t--- aircraft == self.__list[i]\n",
      "a9: small cargo aircraft (priority 4) \t--- aircraft == self.__list[i]\n"
     ]
    }
   ],
   "source": [
    "sched = aircraftScheduler()\n",
    "for ac in fleet:\n",
    "    sched.enqueue(ac)"
   ]
  },
  {
   "cell_type": "code",
   "execution_count": 120,
   "metadata": {},
   "outputs": [
    {
     "data": {
      "text/plain": [
       "[a1: large passenger aircraft (priority 1),\n",
       " a6: large passenger aircraft (priority 1),\n",
       " a8: large passenger aircraft (priority 1),\n",
       " a4: small passenger aircraft (priority 2),\n",
       " a0: large cargo aircraft (priority 3),\n",
       " a3: large cargo aircraft (priority 3),\n",
       " a5: large cargo aircraft (priority 3),\n",
       " a2: small cargo aircraft (priority 4),\n",
       " a7: small cargo aircraft (priority 4),\n",
       " a9: small cargo aircraft (priority 4)]"
      ]
     },
     "execution_count": 120,
     "metadata": {},
     "output_type": "execute_result"
    }
   ],
   "source": [
    "sched._aircraftScheduler__list"
   ]
  },
  {
   "cell_type": "code",
   "execution_count": 122,
   "metadata": {},
   "outputs": [
    {
     "data": {
      "text/plain": [
       "[a6: large passenger aircraft (priority 1),\n",
       " a8: large passenger aircraft (priority 1),\n",
       " a4: small passenger aircraft (priority 2),\n",
       " a0: large cargo aircraft (priority 3),\n",
       " a3: large cargo aircraft (priority 3),\n",
       " a5: large cargo aircraft (priority 3),\n",
       " a2: small cargo aircraft (priority 4),\n",
       " a7: small cargo aircraft (priority 4),\n",
       " a9: small cargo aircraft (priority 4)]"
      ]
     },
     "execution_count": 122,
     "metadata": {},
     "output_type": "execute_result"
    }
   ],
   "source": [
    "sched.dequeue()\n",
    "sched._aircraftScheduler__list"
   ]
  },
  {
   "cell_type": "code",
   "execution_count": 121,
   "metadata": {},
   "outputs": [
    {
     "data": {
      "text/plain": [
       "[a0: large cargo aircraft (priority 3),\n",
       " a1: large passenger aircraft (priority 1),\n",
       " a2: small cargo aircraft (priority 4),\n",
       " a3: large cargo aircraft (priority 3),\n",
       " a4: small passenger aircraft (priority 2),\n",
       " a5: large cargo aircraft (priority 3),\n",
       " a6: large passenger aircraft (priority 1),\n",
       " a7: small cargo aircraft (priority 4),\n",
       " a8: large passenger aircraft (priority 1),\n",
       " a9: small cargo aircraft (priority 4)]"
      ]
     },
     "execution_count": 121,
     "metadata": {},
     "output_type": "execute_result"
    }
   ],
   "source": [
    "fleet"
   ]
  }
 ],
 "metadata": {
  "kernelspec": {
   "display_name": "Python 3",
   "language": "python",
   "name": "python3"
  },
  "language_info": {
   "codemirror_mode": {
    "name": "ipython",
    "version": 3
   },
   "file_extension": ".py",
   "mimetype": "text/x-python",
   "name": "python",
   "nbconvert_exporter": "python",
   "pygments_lexer": "ipython3",
   "version": "3.6.4"
  }
 },
 "nbformat": 4,
 "nbformat_minor": 2
}
