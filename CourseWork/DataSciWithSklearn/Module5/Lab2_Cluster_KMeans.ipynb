{
 "cells": [
  {
   "cell_type": "markdown",
   "metadata": {},
   "source": [
    "# DAT210x - Programming with Python for DS"
   ]
  },
  {
   "cell_type": "markdown",
   "metadata": {},
   "source": [
    "## Module5- Lab2"
   ]
  },
  {
   "cell_type": "markdown",
   "metadata": {},
   "source": [
    "The spirit of data science includes exploration, traversing the unknown, and applying a deep understanding of the challenge you're facing. In an academic setting, it's hard to duplicate these tasks, but this lab will attempt to take a few steps away from the traditional, textbook, \"plug the equation in\" pattern, so you can get a taste of what analyzing data in the real world is all about.\n",
    "\n",
    "After the September 11 attacks, a series of secret regulations, laws, and processes were enacted, perhaps to better protect the citizens of the United States. These processes continued through president Bush's term and were renewed and strengthened during the Obama administration. Then, on May 24, 2006, the United States Foreign Intelligence Surveillance Court (FISC) made a fundamental shift in its approach to Section 215 of the Patriot Act, permitting the FBI to compel production of \"business records\" relevant to terrorism investigations, which are shared with the NSA. The court now defined as business records the entirety of a telephone company's call database, also known as Call Detail Records (CDR or metadata).\n",
    "\n",
    "News of this came to public light after an ex-NSA contractor leaked the information, and a few more questions were raised when it was further discovered that not just the call records of suspected terrorists were being collected in bulk... but perhaps the entirety of Americans as a whole. After all, if you know someone who knows someone who knows someone, your private records are relevant to a terrorism investigation. The white house quickly reassured the public in a press release that \"Nobody is listening to your telephone calls,\" since, \"that's not what this program is about.\" The public was greatly relieved.\n",
    "\n",
    "The questions you'll be exploring in this lab assignment using K-Means are: exactly how useful is telephone metadata? It must have some use, otherwise the government wouldn't have invested however many millions they did into it secretly collecting it from phone carriers. Also what kind of intelligence can you extract from CDR metadata besides its face value?\n",
    "\n",
    "You will be using a sample CDR dataset generated for 10 people living in the Dallas, Texas metroplex area. Your task will be to attempt to do what many researchers have already successfully done - partly de-anonymize the CDR data. People generally behave in predictable manners, moving from home to work with a few errands in between. With enough call data, given a few K-locations of interest, K-Means should be able to isolate rather easily the geolocations where a person spends the most of their time.\n",
    "\n",
    "Note: to safeguard from doxing people, the CDR dataset you'll be using for this assignment was generated using the tools available in the Dive Deeper section. CDRs are at least supposed to be protected by privacy laws, and are the basis for proprietary revenue calculations. In reality, there are quite a few public CDRs out there. Much information can be discerned from them such as social networks, criminal acts, and believe it or not, even the spread of diseases as was demonstrated by Flowminder Foundation paper on Ebola.  \n",
    "\n",
    "Open up the starter code in /Module5/Module5 - Lab2.ipynb and read through it all. It's long, so make sure you understand everything that is being asked for you before proceeding.\n",
    "Load up the CDR dataset from /Module5/Datasets/CDR.csv. Do your due diligence to make sure it's been loaded correctly and all the features and rows match up.\n",
    "Pick the first unique user in the list to examine. Follow the steps in the assignment file to approximate where the user lives.\n",
    "Once you have a (Latitude, Longitude) coordinate pair, drop them into Google Maps. Just do a search for the \"{Lat, Lon}\". So if your centroid is located at Longitude = -96.949246 and Latitude = 32.953856, then do a maps search for \"32.953856, -96.949246\".\n",
    "Answer the questions below."
   ]
  },
  {
   "cell_type": "markdown",
   "metadata": {},
   "source": [
    "Start by importing whatever you need to import in order to make this lab work:"
   ]
  },
  {
   "cell_type": "code",
   "execution_count": 199,
   "metadata": {
    "collapsed": true
   },
   "outputs": [],
   "source": [
    "from sklearn.cluster import KMeans\n",
    "import matplotlib.pyplot as plt\n",
    "import pandas as pd"
   ]
  },
  {
   "cell_type": "markdown",
   "metadata": {},
   "source": [
    "### CDRs"
   ]
  },
  {
   "cell_type": "markdown",
   "metadata": {},
   "source": [
    "A [call detail record](https://en.wikipedia.org/wiki/Call_detail_record) (CDR) is a data record produced by a telephone exchange or other telecommunications equipment that documents the details of a telephone call or other telecommunications transaction (e.g., text message) that passes through that facility or device.\n",
    "\n",
    "The record contains various attributes of the call, such as time, duration, completion status, source number, and destination number. It is the automated equivalent of the paper toll tickets that were written and timed by operators for long-distance calls in a manual telephone exchange.\n",
    "\n",
    "The dataset we've curated for you contains call records for 10 people, tracked over the course of 3 years. Your job in this assignment is to find out where each of these people likely live and where they work at!\n",
    "\n",
    "Start by loading up the dataset and taking a peek at its head. You can convert date-strings to real date-time objects using `pd.to_datetime`, and the times using `pd.to_timedelta`:"
   ]
  },
  {
   "cell_type": "code",
   "execution_count": 200,
   "metadata": {
    "collapsed": true
   },
   "outputs": [
    {
     "data": {
      "text/html": [
       "<div>\n",
       "<style scoped>\n",
       "    .dataframe tbody tr th:only-of-type {\n",
       "        vertical-align: middle;\n",
       "    }\n",
       "\n",
       "    .dataframe tbody tr th {\n",
       "        vertical-align: top;\n",
       "    }\n",
       "\n",
       "    .dataframe thead th {\n",
       "        text-align: right;\n",
       "    }\n",
       "</style>\n",
       "<table border=\"1\" class=\"dataframe\">\n",
       "  <thead>\n",
       "    <tr style=\"text-align: right;\">\n",
       "      <th></th>\n",
       "      <th>In</th>\n",
       "      <th>Out</th>\n",
       "      <th>Direction</th>\n",
       "      <th>CallDate</th>\n",
       "      <th>CallTime</th>\n",
       "      <th>DOW</th>\n",
       "      <th>Duration</th>\n",
       "      <th>TowerID</th>\n",
       "      <th>TowerLat</th>\n",
       "      <th>TowerLon</th>\n",
       "    </tr>\n",
       "  </thead>\n",
       "  <tbody>\n",
       "    <tr>\n",
       "      <th>0</th>\n",
       "      <td>4638472273</td>\n",
       "      <td>2666307251</td>\n",
       "      <td>Incoming</td>\n",
       "      <td>2010-12-25</td>\n",
       "      <td>07:16:24.736813</td>\n",
       "      <td>Sat</td>\n",
       "      <td>0:02:41.741499</td>\n",
       "      <td>0db53dd3-eb9c-4344-abc5-c2d74ebc3eec</td>\n",
       "      <td>32.731611</td>\n",
       "      <td>-96.709417</td>\n",
       "    </tr>\n",
       "    <tr>\n",
       "      <th>1</th>\n",
       "      <td>4638472273</td>\n",
       "      <td>1755442610</td>\n",
       "      <td>Incoming</td>\n",
       "      <td>2010-12-25</td>\n",
       "      <td>21:18:30.053710</td>\n",
       "      <td>Sat</td>\n",
       "      <td>0:02:47.108750</td>\n",
       "      <td>aeaf8b43-8034-44fe-833d-31854a75acbf</td>\n",
       "      <td>32.731722</td>\n",
       "      <td>-96.709500</td>\n",
       "    </tr>\n",
       "    <tr>\n",
       "      <th>2</th>\n",
       "      <td>4638472273</td>\n",
       "      <td>5481755331</td>\n",
       "      <td>Incoming</td>\n",
       "      <td>2010-12-25</td>\n",
       "      <td>14:52:42.878016</td>\n",
       "      <td>Sat</td>\n",
       "      <td>0:04:35.356341</td>\n",
       "      <td>fadaa83f-6001-45fd-aa4a-17d6c6b7ec00</td>\n",
       "      <td>32.899944</td>\n",
       "      <td>-96.910389</td>\n",
       "    </tr>\n",
       "  </tbody>\n",
       "</table>\n",
       "</div>"
      ],
      "text/plain": [
       "           In         Out Direction    CallDate         CallTime  DOW  \\\n",
       "0  4638472273  2666307251  Incoming  2010-12-25  07:16:24.736813  Sat   \n",
       "1  4638472273  1755442610  Incoming  2010-12-25  21:18:30.053710  Sat   \n",
       "2  4638472273  5481755331  Incoming  2010-12-25  14:52:42.878016  Sat   \n",
       "\n",
       "         Duration                               TowerID   TowerLat   TowerLon  \n",
       "0  0:02:41.741499  0db53dd3-eb9c-4344-abc5-c2d74ebc3eec  32.731611 -96.709417  \n",
       "1  0:02:47.108750  aeaf8b43-8034-44fe-833d-31854a75acbf  32.731722 -96.709500  \n",
       "2  0:04:35.356341  fadaa83f-6001-45fd-aa4a-17d6c6b7ec00  32.899944 -96.910389  "
      ]
     },
     "execution_count": 200,
     "metadata": {},
     "output_type": "execute_result"
    }
   ],
   "source": [
    "df = pd.read_csv('Datasets/CDR.csv')\n",
    "df.head(3)"
   ]
  },
  {
   "cell_type": "markdown",
   "metadata": {},
   "source": [
    "Create a distinct list of `In` phone numbers (people) and store the values in a regular python list. Make sure the numbers appear in your list in the same order they appear in your dataframe; but only keep a single copy of each number. [This link](https://docs.scipy.org/doc/numpy/reference/generated/numpy.ndarray.tolist.html) might also be helpful."
   ]
  },
  {
   "cell_type": "code",
   "execution_count": 201,
   "metadata": {
    "collapsed": true
   },
   "outputs": [
    {
     "data": {
      "text/plain": [
       "[4638472273, 1559410755, 4931532174]"
      ]
     },
     "execution_count": 201,
     "metadata": {},
     "output_type": "execute_result"
    }
   ],
   "source": [
    "lst_phone_in = df['In'].unique().tolist()\n",
    "lst_phone_in[:3]"
   ]
  },
  {
   "cell_type": "markdown",
   "metadata": {},
   "source": [
    "Create a slice named `user1` that filters to _only_ include dataset records where the `In` feature (user's phone number) is equal to the first number on your unique list above, i.e., the very first number in the dataset:"
   ]
  },
  {
   "cell_type": "code",
   "execution_count": 202,
   "metadata": {
    "collapsed": true
   },
   "outputs": [],
   "source": [
    "user1 = df.where(df.In.isin(lst_phone_in))"
   ]
  },
  {
   "cell_type": "markdown",
   "metadata": {},
   "source": [
    "Let's go ahead and plot all the call locations:"
   ]
  },
  {
   "cell_type": "code",
   "execution_count": 203,
   "metadata": {
    "collapsed": true
   },
   "outputs": [
    {
     "data": {
      "image/png": "[encoded data removed]",
      "text/plain": [
       "<matplotlib.figure.Figure at 0x1c56f2af0f0>"
      ]
     },
     "metadata": {},
     "output_type": "display_data"
    }
   ],
   "source": [
    "user1.plot.scatter(x='TowerLon', y='TowerLat', c='gray', alpha=0.1, title='Call Locations')\n",
    "plt.show()"
   ]
  },
  {
   "cell_type": "markdown",
   "metadata": {},
   "source": [
    "INFO: The locations map above should be too \"busy\" to really wrap your head around. This is where domain expertise comes into play. Your intuition can direct you by knowing people are likely to behave differently on weekends vs on weekdays:\n",
    "\n",
    "#### On Weekends\n",
    "1. People probably don't go into work\n",
    "1. They probably sleep in late on Saturday\n",
    "1. They probably run a bunch of random errands, since they couldn't during the week\n",
    "1. They should be home, at least during the very late hours, e.g. 1-4 AM\n",
    "\n",
    "#### On Weekdays\n",
    "1. People probably are at work during normal working hours\n",
    "1. They probably are at home in the early morning and during the late night\n",
    "1. They probably spend time commuting between work and home everyday"
   ]
  },
  {
   "cell_type": "markdown",
   "metadata": {},
   "source": [
    "Add more filters to the `user1` slice you created. Add bitwise logic so that you only examine records that _came in_ on weekends (sat/sun):"
   ]
  },
  {
   "cell_type": "code",
   "execution_count": 204,
   "metadata": {},
   "outputs": [],
   "source": [
    "user1.CallTime = pd.to_timedelta(user1.CallTime)"
   ]
  },
  {
   "cell_type": "code",
   "execution_count": 205,
   "metadata": {},
   "outputs": [],
   "source": [
    "# user1 = user1[(pd.to_numeric(user1.CallTime.str.split(':').str.get(0)) >= 22) | (pd.to_numeric(user1.CallTime.str.split(':').str.get(0)) <= 6)]\n",
    "# print(pd.to_timedelta(user1.CallTime) > '06:00:00')\n",
    "# user1.CallTime.apply(lambda x: x.split(':')[0])\n",
    "user1 = user1[user1.DOW.isin(['Sat', 'Sun'])]\n",
    "user1 = user1[(user1.CallTime <= '06:00:00') | (user1.CallTime >= '22:00:00')]\n"
   ]
  },
  {
   "cell_type": "markdown",
   "metadata": {},
   "source": [
    "Further filter `user1` down for calls that came in either before 6AM OR after 10pm (22:00:00). Even if you didn't convert your times from string objects to timedeltas, you can still use `<` and `>` to compare the string times as long as you code them as [military time strings](https://en.wikipedia.org/wiki/24-hour_clock), eg: \"06:00:00\", \"22:00:00\": \n",
    "\n",
    "You may also want to review the Data Manipulation section for this. Once you have your filtered slice, print out its length:"
   ]
  },
  {
   "cell_type": "code",
   "execution_count": 207,
   "metadata": {
    "collapsed": true
   },
   "outputs": [
    {
     "data": {
      "text/plain": [
       "36       False\n",
       "39       False\n",
       "40       False\n",
       "56       False\n",
       "108      False\n",
       "109      False\n",
       "121      False\n",
       "144      False\n",
       "148      False\n",
       "157      False\n",
       "552      False\n",
       "559      False\n",
       "569      False\n",
       "595      False\n",
       "940       True\n",
       "954      False\n",
       "975      False\n",
       "984      False\n",
       "989      False\n",
       "1065     False\n",
       "1080     False\n",
       "1477     False\n",
       "1503     False\n",
       "1508     False\n",
       "1519     False\n",
       "1523     False\n",
       "1538     False\n",
       "1875      True\n",
       "1945     False\n",
       "1994     False\n",
       "         ...  \n",
       "49302    False\n",
       "49342    False\n",
       "49343    False\n",
       "49805    False\n",
       "50216    False\n",
       "50247    False\n",
       "50638    False\n",
       "50664    False\n",
       "50683    False\n",
       "50697    False\n",
       "50723    False\n",
       "50729    False\n",
       "50740    False\n",
       "51148    False\n",
       "51181    False\n",
       "51510    False\n",
       "51540    False\n",
       "51547    False\n",
       "51563    False\n",
       "51586     True\n",
       "51603    False\n",
       "51619    False\n",
       "51661    False\n",
       "52014    False\n",
       "52085    False\n",
       "52120    False\n",
       "52127    False\n",
       "52510    False\n",
       "52994    False\n",
       "53052    False\n",
       "Name: In, Length: 457, dtype: bool"
      ]
     },
     "execution_count": 207,
     "metadata": {},
     "output_type": "execute_result"
    }
   ],
   "source": [
    "user1['In'] == 4638472273"
   ]
  },
  {
   "cell_type": "markdown",
   "metadata": {},
   "source": [
    "Visualize the dataframe with a scatter plot as a sanity check. Since you're [familiar with maps](https://en.wikipedia.org/wiki/Geographic_coordinate_system#Geographic_latitude_and_longitude), you know well that your X-Coordinate should be Longitude, and your Y coordinate should be the tower Latitude. Check the dataset headers for proper column feature names.\n",
    " \n",
    "At this point, you don't yet know exactly where the user is located just based off the cell phone tower position data; but considering the below are for Calls that arrived in the twilight hours of weekends, it's likely that wherever they are bunched up is probably near where the caller's residence:"
   ]
  },
  {
   "cell_type": "code",
   "execution_count": 125,
   "metadata": {
    "collapsed": false
   },
   "outputs": [
    {
     "data": {
      "image/png": "[encoded data removed]",
      "text/plain": [
       "<matplotlib.figure.Figure at 0x1c56f6e7cc0>"
      ]
     },
     "metadata": {},
     "output_type": "display_data"
    }
   ],
   "source": [
    "fig = plt.figure()\n",
    "ax = fig.add_subplot(111)\n",
    "ax.scatter(user1.TowerLon,user1.TowerLat, c='g', marker='o', alpha=0.2)\n",
    "ax.set_title('Weekend Calls (<6am or >10p)')\n",
    "plt.show()"
   ]
  },
  {
   "cell_type": "markdown",
   "metadata": {},
   "source": [
    "Run K-Means with a `K=1`. There really should only be a single area of concentration. If you notice multiple areas that are \"hot\" (multiple areas the user spends a lot of time at that are FAR apart from one another), then increase `K=2`, with the goal being that one of the centroids will sweep up the annoying outliers; and the other will zero in on the user's approximate home location. Or rather the location of the cell tower closest to their home.....\n",
    "\n",
    "Be sure to only feed in Lat and Lon coordinates to the KMeans algorithm, since none of the other data is suitable for your purposes. Since both Lat and Lon are (approximately) on the same scale, no feature scaling is required. Print out the centroid locations and add them onto your scatter plot. Use a distinguishable marker and color.\n",
    "\n",
    "Hint: Make sure you graph the CORRECT coordinates. This is part of your domain expertise."
   ]
  },
  {
   "cell_type": "code",
   "execution_count": 211,
   "metadata": {
    "collapsed": true
   },
   "outputs": [],
   "source": [
    "def doKMeans(df):\n",
    "    # Let's plot your data with a '.' marker, a 0.3 alpha at the Longitude,\n",
    "    # and Latitude locations in your dataset. Longitude = x, Latitude = y\n",
    "    fig = plt.figure()\n",
    "    ax = fig.add_subplot(111)\n",
    "    ax.scatter(df.TowerLon, df.TowerLat, marker='o', c='g', alpha=0.3)\n",
    " \n",
    "    df = df[['TowerLon', 'TowerLat']]\n",
    "    model = KMeans(n_clusters=2)\n",
    "    model.fit(df.values)\n",
    "\n",
    "    centroids = model.cluster_centers_\n",
    "    print(centroids)\n",
    "    \n",
    "    ax.scatter(centroids[:,0], centroids[:,1], marker='x', c='red', alpha=0.8, linewidths=3, s=169)\n",
    "    plt.show()\n",
    "\n",
    "    "
   ]
  },
  {
   "cell_type": "code",
   "execution_count": 212,
   "metadata": {
    "collapsed": false
   },
   "outputs": [
    {
     "name": "stdout",
     "output_type": "stream",
     "text": [
      "[[-96.64997126  32.72449782]\n",
      " [-96.84009555  32.81736755]]\n"
     ]
    },
    {
     "data": {
      "image/png": "[encoded data removed]",
      "text/plain": [
       "<matplotlib.figure.Figure at 0x1c56b876ba8>"
      ]
     },
     "metadata": {},
     "output_type": "display_data"
    }
   ],
   "source": [
    "doKMeans(user1)"
   ]
  },
  {
   "cell_type": "markdown",
   "metadata": {},
   "source": [
    "Now that you have a system in place, repeat the above steps for all 10 individuals in the dataset, being sure to record their approximate home locations. You might want to use a for-loop, unless you enjoy copying and pasting:"
   ]
  },
  {
   "cell_type": "code",
   "execution_count": 213,
   "metadata": {
    "collapsed": true
   },
   "outputs": [
    {
     "name": "stdout",
     "output_type": "stream",
     "text": [
      "[[-96.70944573  32.73164942]\n",
      " [-96.694722    32.750556  ]]\n"
     ]
    },
    {
     "data": {
      "image/png": "[encoded data removed]",
      "text/plain": [
       "<matplotlib.figure.Figure at 0x1c56ad01cf8>"
      ]
     },
     "metadata": {},
     "output_type": "display_data"
    }
   ],
   "source": [
    "doKMeans(user1[user1['In'] == 4638472273])"
   ]
  },
  {
   "cell_type": "code",
   "execution_count": null,
   "metadata": {
    "collapsed": true
   },
   "outputs": [],
   "source": []
  }
 ],
 "metadata": {
  "anaconda-cloud": {},
  "kernelspec": {
   "display_name": "Python 3",
   "language": "python",
   "name": "python3"
  },
  "language_info": {
   "codemirror_mode": {
    "name": "ipython",
    "version": 3
   },
   "file_extension": ".py",
   "mimetype": "text/x-python",
   "name": "python",
   "nbconvert_exporter": "python",
   "pygments_lexer": "ipython3",
   "version": "3.6.4"
  },
  "toc": {
   "colors": {
    "hover_highlight": "#DAA520",
    "running_highlight": "#FF0000",
    "selected_highlight": "#FFD700"
   },
   "moveMenuLeft": true,
   "nav_menu": {
    "height": "58px",
    "width": "252px"
   },
   "navigate_menu": true,
   "number_sections": true,
   "sideBar": true,
   "threshold": 4,
   "toc_cell": false,
   "toc_section_display": "block",
   "toc_window_display": false,
   "widenNotebook": false
  }
 },
 "nbformat": 4,
 "nbformat_minor": 2
}
