{
 "cells": [
  {
   "cell_type": "markdown",
   "metadata": {},
   "source": [
    "# DAT210x - Programming with Python for DS"
   ]
  },
  {
   "cell_type": "markdown",
   "metadata": {},
   "source": [
    "## Module5- Lab8"
   ]
  },
  {
   "cell_type": "markdown",
   "metadata": {},
   "source": [
    "Advances in medicine, an increase in healthcare facilities, and improved standards of care have all contributed to an increased overall life expectancy over the last few decades. Although this might seem like great achievement for humanity, it has also led to the abandonment of more elderly people into senior-care and assisted living communities. The morality, benefits, and disadvantages of leaving one's parents in such facilities are still debatable; however, the fact that this practice has increased the financial burden on both the private-sector and government is not.\n",
    "\n",
    "In this lab assignment, you will be using the subset a life expectancy dataset, provided courtesy of the Center for Disease Control and Prevention's National Center for Health Statistics page. The page hosts many open datasets on topics ranging from injuries, poverty, women's health, education, health insurance, and of course infectious diseases, and much more. But the one you'll be using is their \"Life expectancy at birth, at age 65, and at age 75, by sex, race, and origin\" data set, which has statistics dating back from the 1900's to current, taken within the United States. We have included a copy of the dataset as Module5/Datasets/life_expectancy.csv. The dataset only lists the life expectancy of whites and blacks, because throughout most of the collection period, those were the dominant two races that actively had their statistics recorded within the U.S.\n",
    "\n",
    "Using linear regression, you will extrapolate how long people will live in the future. The private sector and governments mirror these calculations when computing social security payouts, taxes, infrastructure, and more. Fire up your Module5/Module5 - Lab8.ipynb starter code, and then complete the following:\n",
    "\n",
    "Make sure the dataset has been properly loaded.\n",
    "Create a linear model to use and re-use throughout the assignment. You can retrain the same model again, rather than re-creating a new instance of the class.\n",
    "Slice out using indexing any records before 1986 into a brand new slice.\n",
    "Have one slice for training and one for testing. First, map the life expectancy of white males as a function of age, or WhiteMales = f(age).\n",
    "Fit your model, draw a regression line and scatter plot with the convenience function, and then print out the actual, observed 2015 White Male life expectancy value from the dataset.\n",
    "Repeat for BlackFemale.\n",
    "Print out and display a correlation matrix for the dataset's features.\n",
    "Answer the questions below."
   ]
  },
  {
   "cell_type": "code",
   "execution_count": 1,
   "metadata": {
    "collapsed": true
   },
   "outputs": [],
   "source": [
    "import pandas as pd\n",
    "import numpy as np\n",
    "import matplotlib\n",
    "import matplotlib.pyplot as plt\n",
    "\n",
    "matplotlib.style.use('ggplot') # Look Pretty`"
   ]
  },
  {
   "cell_type": "markdown",
   "metadata": {},
   "source": [
    "### A Convenience Function"
   ]
  },
  {
   "cell_type": "markdown",
   "metadata": {},
   "source": [
    "This convenience method will take care of plotting your test observations, comparing them to the regression line, and displaying the R2 coefficient"
   ]
  },
  {
   "cell_type": "code",
   "execution_count": 2,
   "metadata": {
    "collapsed": false
   },
   "outputs": [],
   "source": [
    "def drawLine(model, X_test, y_test, title):\n",
    "    fig = plt.figure()\n",
    "    ax = fig.add_subplot(111)\n",
    "    ax.scatter(X_test, y_test, c='g', marker='o')\n",
    "    ax.plot(X_test, model.predict(X_test), color='orange', linewidth=1, alpha=0.7)\n",
    "\n",
    "    print(\"Est 2014 \" + title + \" Life Expectancy: \", model.predict([[2014]])[0])\n",
    "    print(\"Est 2030 \" + title + \" Life Expectancy: \", model.predict([[2030]])[0])\n",
    "    print(\"Est 2045 \" + title + \" Life Expectancy: \", model.predict([[2045]])[0])\n",
    "\n",
    "    score = model.score(X_test, y_test)\n",
    "    title += \" R2: \" + str(score)\n",
    "    ax.set_title(title)\n",
    "\n",
    "    plt.show()"
   ]
  },
  {
   "cell_type": "markdown",
   "metadata": {},
   "source": [
    "### The Assignment"
   ]
  },
  {
   "cell_type": "markdown",
   "metadata": {},
   "source": [
    "Load up the data here into a variable called `X`. As usual, do a .describe and a print of your dataset and compare it to the dataset loaded in a text file or in a spread sheet application:"
   ]
  },
  {
   "cell_type": "code",
   "execution_count": 3,
   "metadata": {
    "collapsed": true
   },
   "outputs": [
    {
     "name": "stdout",
     "output_type": "stream",
     "text": [
      "              Year  WhiteMale  WhiteFemale  BlackMale  BlackFemale\n",
      "count    40.000000  40.000000    40.000000  40.000000    40.000000\n",
      "mean   1991.250000  72.730000    78.592500  65.912500    73.262500\n",
      "std      20.536085   4.968681     5.200561   6.422284     7.157592\n",
      "min    1900.000000  46.600000    48.700000  32.500000    33.500000\n",
      "25%    1984.750000  71.800000    78.700000  64.575000    73.400000\n",
      "50%    1994.500000  73.350000    79.650000  65.250000    73.900000\n",
      "75%    2004.250000  75.500000    80.500000  69.425000    76.125000\n",
      "max    2014.000000  76.700000    81.400000  72.500000    78.400000\n",
      "   Year  WhiteMale  WhiteFemale  BlackMale  BlackFemale\n",
      "0  1900       46.6         48.7       32.5         33.5\n",
      "1  1950       66.5         72.2       59.1         62.9\n",
      "2  1960       67.4         74.1       61.1         66.3\n"
     ]
    }
   ],
   "source": [
    "X = pd.read_csv(r'Datasets/life_expectancy.csv', delim_whitespace=True)\n",
    "print(X.describe())\n",
    "print(X.head(3))"
   ]
  },
  {
   "cell_type": "code",
   "execution_count": 4,
   "metadata": {},
   "outputs": [
    {
     "data": {
      "text/html": [
       "<style  type=\"text/css\" >\n",
       "    #T_228801b4_81ad_11e8_932b_c49ded0f23c1row0_col0 {\n",
       "            background-color:  #ffff66;\n",
       "        }    #T_228801b4_81ad_11e8_932b_c49ded0f23c1row0_col1 {\n",
       "            background-color:  #008066;\n",
       "        }    #T_228801b4_81ad_11e8_932b_c49ded0f23c1row0_col2 {\n",
       "            background-color:  #008066;\n",
       "        }    #T_228801b4_81ad_11e8_932b_c49ded0f23c1row0_col3 {\n",
       "            background-color:  #178b66;\n",
       "        }    #T_228801b4_81ad_11e8_932b_c49ded0f23c1row0_col4 {\n",
       "            background-color:  #008066;\n",
       "        }    #T_228801b4_81ad_11e8_932b_c49ded0f23c1row1_col0 {\n",
       "            background-color:  #b3d966;\n",
       "        }    #T_228801b4_81ad_11e8_932b_c49ded0f23c1row1_col1 {\n",
       "            background-color:  #ffff66;\n",
       "        }    #T_228801b4_81ad_11e8_932b_c49ded0f23c1row1_col2 {\n",
       "            background-color:  #b6db66;\n",
       "        }    #T_228801b4_81ad_11e8_932b_c49ded0f23c1row1_col3 {\n",
       "            background-color:  #b8dc66;\n",
       "        }    #T_228801b4_81ad_11e8_932b_c49ded0f23c1row1_col4 {\n",
       "            background-color:  #bfdf66;\n",
       "        }    #T_228801b4_81ad_11e8_932b_c49ded0f23c1row2_col0 {\n",
       "            background-color:  #008066;\n",
       "        }    #T_228801b4_81ad_11e8_932b_c49ded0f23c1row2_col1 {\n",
       "            background-color:  #0a8466;\n",
       "        }    #T_228801b4_81ad_11e8_932b_c49ded0f23c1row2_col2 {\n",
       "            background-color:  #ffff66;\n",
       "        }    #T_228801b4_81ad_11e8_932b_c49ded0f23c1row2_col3 {\n",
       "            background-color:  #008066;\n",
       "        }    #T_228801b4_81ad_11e8_932b_c49ded0f23c1row2_col4 {\n",
       "            background-color:  #e9f466;\n",
       "        }    #T_228801b4_81ad_11e8_932b_c49ded0f23c1row3_col0 {\n",
       "            background-color:  #8ac466;\n",
       "        }    #T_228801b4_81ad_11e8_932b_c49ded0f23c1row3_col1 {\n",
       "            background-color:  #88c366;\n",
       "        }    #T_228801b4_81ad_11e8_932b_c49ded0f23c1row3_col2 {\n",
       "            background-color:  #7fbf66;\n",
       "        }    #T_228801b4_81ad_11e8_932b_c49ded0f23c1row3_col3 {\n",
       "            background-color:  #ffff66;\n",
       "        }    #T_228801b4_81ad_11e8_932b_c49ded0f23c1row3_col4 {\n",
       "            background-color:  #98cc66;\n",
       "        }    #T_228801b4_81ad_11e8_932b_c49ded0f23c1row4_col0 {\n",
       "            background-color:  #4ea666;\n",
       "        }    #T_228801b4_81ad_11e8_932b_c49ded0f23c1row4_col1 {\n",
       "            background-color:  #6bb566;\n",
       "        }    #T_228801b4_81ad_11e8_932b_c49ded0f23c1row4_col2 {\n",
       "            background-color:  #f0f866;\n",
       "        }    #T_228801b4_81ad_11e8_932b_c49ded0f23c1row4_col3 {\n",
       "            background-color:  #71b866;\n",
       "        }    #T_228801b4_81ad_11e8_932b_c49ded0f23c1row4_col4 {\n",
       "            background-color:  #ffff66;\n",
       "        }</style>  \n",
       "<table id=\"T_228801b4_81ad_11e8_932b_c49ded0f23c1\" > \n",
       "<thead>    <tr> \n",
       "        <th class=\"blank level0\" ></th> \n",
       "        <th class=\"col_heading level0 col0\" >Year</th> \n",
       "        <th class=\"col_heading level0 col1\" >WhiteMale</th> \n",
       "        <th class=\"col_heading level0 col2\" >WhiteFemale</th> \n",
       "        <th class=\"col_heading level0 col3\" >BlackMale</th> \n",
       "        <th class=\"col_heading level0 col4\" >BlackFemale</th> \n",
       "    </tr></thead> \n",
       "<tbody>    <tr> \n",
       "        <th id=\"T_228801b4_81ad_11e8_932b_c49ded0f23c1level0_row0\" class=\"row_heading level0 row0\" >Year</th> \n",
       "        <td id=\"T_228801b4_81ad_11e8_932b_c49ded0f23c1row0_col0\" class=\"data row0 col0\" >1</td> \n",
       "        <td id=\"T_228801b4_81ad_11e8_932b_c49ded0f23c1row0_col1\" class=\"data row0 col1\" >0.974154</td> \n",
       "        <td id=\"T_228801b4_81ad_11e8_932b_c49ded0f23c1row0_col2\" class=\"data row0 col2\" >0.913907</td> \n",
       "        <td id=\"T_228801b4_81ad_11e8_932b_c49ded0f23c1row0_col3\" class=\"data row0 col3\" >0.960635</td> \n",
       "        <td id=\"T_228801b4_81ad_11e8_932b_c49ded0f23c1row0_col4\" class=\"data row0 col4\" >0.940429</td> \n",
       "    </tr>    <tr> \n",
       "        <th id=\"T_228801b4_81ad_11e8_932b_c49ded0f23c1level0_row1\" class=\"row_heading level0 row1\" >WhiteMale</th> \n",
       "        <td id=\"T_228801b4_81ad_11e8_932b_c49ded0f23c1row1_col0\" class=\"data row1 col0\" >0.974154</td> \n",
       "        <td id=\"T_228801b4_81ad_11e8_932b_c49ded0f23c1row1_col1\" class=\"data row1 col1\" >1</td> \n",
       "        <td id=\"T_228801b4_81ad_11e8_932b_c49ded0f23c1row1_col2\" class=\"data row1 col2\" >0.975164</td> \n",
       "        <td id=\"T_228801b4_81ad_11e8_932b_c49ded0f23c1row1_col3\" class=\"data row1 col3\" >0.987974</td> \n",
       "        <td id=\"T_228801b4_81ad_11e8_932b_c49ded0f23c1row1_col4\" class=\"data row1 col4\" >0.985009</td> \n",
       "    </tr>    <tr> \n",
       "        <th id=\"T_228801b4_81ad_11e8_932b_c49ded0f23c1level0_row2\" class=\"row_heading level0 row2\" >WhiteFemale</th> \n",
       "        <td id=\"T_228801b4_81ad_11e8_932b_c49ded0f23c1row2_col0\" class=\"data row2 col0\" >0.913907</td> \n",
       "        <td id=\"T_228801b4_81ad_11e8_932b_c49ded0f23c1row2_col1\" class=\"data row2 col1\" >0.975164</td> \n",
       "        <td id=\"T_228801b4_81ad_11e8_932b_c49ded0f23c1row2_col2\" class=\"data row2 col2\" >1</td> \n",
       "        <td id=\"T_228801b4_81ad_11e8_932b_c49ded0f23c1row2_col3\" class=\"data row2 col3\" >0.956689</td> \n",
       "        <td id=\"T_228801b4_81ad_11e8_932b_c49ded0f23c1row2_col4\" class=\"data row2 col4\" >0.994656</td> \n",
       "    </tr>    <tr> \n",
       "        <th id=\"T_228801b4_81ad_11e8_932b_c49ded0f23c1level0_row3\" class=\"row_heading level0 row3\" >BlackMale</th> \n",
       "        <td id=\"T_228801b4_81ad_11e8_932b_c49ded0f23c1row3_col0\" class=\"data row3 col0\" >0.960635</td> \n",
       "        <td id=\"T_228801b4_81ad_11e8_932b_c49ded0f23c1row3_col1\" class=\"data row3 col1\" >0.987974</td> \n",
       "        <td id=\"T_228801b4_81ad_11e8_932b_c49ded0f23c1row3_col2\" class=\"data row3 col2\" >0.956689</td> \n",
       "        <td id=\"T_228801b4_81ad_11e8_932b_c49ded0f23c1row3_col3\" class=\"data row3 col3\" >1</td> \n",
       "        <td id=\"T_228801b4_81ad_11e8_932b_c49ded0f23c1row3_col4\" class=\"data row3 col4\" >0.975922</td> \n",
       "    </tr>    <tr> \n",
       "        <th id=\"T_228801b4_81ad_11e8_932b_c49ded0f23c1level0_row4\" class=\"row_heading level0 row4\" >BlackFemale</th> \n",
       "        <td id=\"T_228801b4_81ad_11e8_932b_c49ded0f23c1row4_col0\" class=\"data row4 col0\" >0.940429</td> \n",
       "        <td id=\"T_228801b4_81ad_11e8_932b_c49ded0f23c1row4_col1\" class=\"data row4 col1\" >0.985009</td> \n",
       "        <td id=\"T_228801b4_81ad_11e8_932b_c49ded0f23c1row4_col2\" class=\"data row4 col2\" >0.994656</td> \n",
       "        <td id=\"T_228801b4_81ad_11e8_932b_c49ded0f23c1row4_col3\" class=\"data row4 col3\" >0.975922</td> \n",
       "        <td id=\"T_228801b4_81ad_11e8_932b_c49ded0f23c1row4_col4\" class=\"data row4 col4\" >1</td> \n",
       "    </tr></tbody> \n",
       "</table> "
      ],
      "text/plain": [
       "<pandas.io.formats.style.Styler at 0x1fa37603978>"
      ]
     },
     "execution_count": 4,
     "metadata": {},
     "output_type": "execute_result"
    }
   ],
   "source": [
    "X.corr().style.background_gradient('summer')"
   ]
  },
  {
   "cell_type": "markdown",
   "metadata": {},
   "source": [
    "Create your linear regression model here and store it in a variable called `model`. Don't actually train or do anything else with it yet:"
   ]
  },
  {
   "cell_type": "code",
   "execution_count": 5,
   "metadata": {
    "collapsed": true
   },
   "outputs": [],
   "source": [
    "from sklearn.linear_model import LinearRegression\n",
    "model = LinearRegression()"
   ]
  },
  {
   "cell_type": "markdown",
   "metadata": {},
   "source": [
    "Slice out your data manually (e.g. don't use `train_test_split`, but actually do the indexing yourself. Set `X_train` to be year values LESS than 1986, and `y_train` to be corresponding 'WhiteMale' age values. You might also want to read the note about slicing on the bottom of this document before proceeding:"
   ]
  },
  {
   "cell_type": "code",
   "execution_count": 6,
   "metadata": {
    "collapsed": true
   },
   "outputs": [
    {
     "name": "stdout",
     "output_type": "stream",
     "text": [
      "   Year\n",
      "0  1900\n",
      "1  1950\n",
      "2  1960\n",
      "   WhiteMale\n",
      "0       46.6\n",
      "1       66.5\n",
      "2       67.4\n"
     ]
    }
   ],
   "source": [
    "X_train = X[X.Year < 1986]\n",
    "y_train = X_train[['WhiteMale']]\n",
    "X_train = X_train[['Year']]\n",
    "print(X_train.head(3))\n",
    "print(y_train.head(3))"
   ]
  },
  {
   "cell_type": "markdown",
   "metadata": {},
   "source": [
    "Train your model then pass it into `drawLine` with your training set and labels. You can title it 'WhiteMale'. `drawLine` will output to the console a 2014 extrapolation / approximation for what it believes the WhiteMale's life expectancy in the U.S. will be... given the pre-1986 data you trained it with. It'll also produce a 2030 and 2045 extrapolation:"
   ]
  },
  {
   "cell_type": "code",
   "execution_count": 30,
   "metadata": {
    "collapsed": true
   },
   "outputs": [
    {
     "name": "stdout",
     "output_type": "stream",
     "text": [
      "Est 2014 WhiteMale Life Expectancy:  [80.85635426]\n",
      "Est 2030 WhiteMale Life Expectancy:  [85.39349384]\n",
      "Est 2045 WhiteMale Life Expectancy:  [89.6470622]\n"
     ]
    },
    {
     "data": {
      "image/png": "[encoded data removed]",
      "text/plain": [
       "<matplotlib.figure.Figure at 0x1d0a5c859b0>"
      ]
     },
     "metadata": {},
     "output_type": "display_data"
    }
   ],
   "source": [
    "model.fit(X_train, y_train)\n",
    "drawLine(model, X_train, y_train, 'WhiteMale')"
   ]
  },
  {
   "cell_type": "markdown",
   "metadata": {},
   "source": [
    "Print the actual 2014 'WhiteMale' life expectancy from your loaded dataset"
   ]
  },
  {
   "cell_type": "code",
   "execution_count": 35,
   "metadata": {
    "collapsed": true
   },
   "outputs": [
    {
     "data": {
      "text/html": [
       "<div>\n",
       "<style scoped>\n",
       "    .dataframe tbody tr th:only-of-type {\n",
       "        vertical-align: middle;\n",
       "    }\n",
       "\n",
       "    .dataframe tbody tr th {\n",
       "        vertical-align: top;\n",
       "    }\n",
       "\n",
       "    .dataframe thead th {\n",
       "        text-align: right;\n",
       "    }\n",
       "</style>\n",
       "<table border=\"1\" class=\"dataframe\">\n",
       "  <thead>\n",
       "    <tr style=\"text-align: right;\">\n",
       "      <th></th>\n",
       "      <th>Year</th>\n",
       "      <th>WhiteMale</th>\n",
       "    </tr>\n",
       "  </thead>\n",
       "  <tbody>\n",
       "    <tr>\n",
       "      <th>39</th>\n",
       "      <td>2014</td>\n",
       "      <td>76.7</td>\n",
       "    </tr>\n",
       "  </tbody>\n",
       "</table>\n",
       "</div>"
      ],
      "text/plain": [
       "    Year  WhiteMale\n",
       "39  2014       76.7"
      ]
     },
     "execution_count": 35,
     "metadata": {},
     "output_type": "execute_result"
    }
   ],
   "source": [
    "X.loc[X.Year == 2014,['Year', 'WhiteMale']]"
   ]
  },
  {
   "cell_type": "markdown",
   "metadata": {},
   "source": [
    "Repeat the process, but instead of for WhiteMale, this time select BlackFemale. Create a slice for BlackFemales, fit your model, and then call `drawLine`. Lastly, print out the actual 2014 BlackFemale life expectancy:"
   ]
  },
  {
   "cell_type": "code",
   "execution_count": 33,
   "metadata": {
    "collapsed": false
   },
   "outputs": [
    {
     "name": "stdout",
     "output_type": "stream",
     "text": [
      "   Year\n",
      "0  1900\n",
      "1  1950\n",
      "2  1960\n",
      "   BlackFemale\n",
      "0         33.5\n",
      "1         62.9\n",
      "2         66.3\n"
     ]
    }
   ],
   "source": [
    "X_train = X[X.Year < 1986]\n",
    "y_train = X_train[['BlackFemale']]\n",
    "X_train = X_train[['Year']]\n",
    "print(X_train.head(3))\n",
    "print(y_train.head(3))"
   ]
  },
  {
   "cell_type": "markdown",
   "metadata": {},
   "source": [
    "Lastly, print out a correlation matrix for your entire dataset, and display a visualization of the correlation matrix, just as we described in the visualization section of the course:"
   ]
  },
  {
   "cell_type": "code",
   "execution_count": 34,
   "metadata": {
    "collapsed": true
   },
   "outputs": [
    {
     "name": "stdout",
     "output_type": "stream",
     "text": [
      "Est 2014 BlackFemale Life Expectancy:  [80.85635426]\n",
      "Est 2030 BlackFemale Life Expectancy:  [85.39349384]\n",
      "Est 2045 BlackFemale Life Expectancy:  [89.6470622]\n"
     ]
    },
    {
     "data": {
      "image/png": "[encoded data removed]",
      "text/plain": [
       "<matplotlib.figure.Figure at 0x1d0a5cfb710>"
      ]
     },
     "metadata": {},
     "output_type": "display_data"
    }
   ],
   "source": [
    "drawLine(model, X_train, y_train, 'BlackFemale')"
   ]
  },
  {
   "cell_type": "code",
   "execution_count": 37,
   "metadata": {
    "collapsed": true
   },
   "outputs": [
    {
     "data": {
      "text/html": [
       "<div>\n",
       "<style scoped>\n",
       "    .dataframe tbody tr th:only-of-type {\n",
       "        vertical-align: middle;\n",
       "    }\n",
       "\n",
       "    .dataframe tbody tr th {\n",
       "        vertical-align: top;\n",
       "    }\n",
       "\n",
       "    .dataframe thead th {\n",
       "        text-align: right;\n",
       "    }\n",
       "</style>\n",
       "<table border=\"1\" class=\"dataframe\">\n",
       "  <thead>\n",
       "    <tr style=\"text-align: right;\">\n",
       "      <th></th>\n",
       "      <th>Year</th>\n",
       "      <th>BlackFemale</th>\n",
       "    </tr>\n",
       "  </thead>\n",
       "  <tbody>\n",
       "    <tr>\n",
       "      <th>39</th>\n",
       "      <td>2014</td>\n",
       "      <td>78.4</td>\n",
       "    </tr>\n",
       "  </tbody>\n",
       "</table>\n",
       "</div>"
      ],
      "text/plain": [
       "    Year  BlackFemale\n",
       "39  2014         78.4"
      ]
     },
     "execution_count": 37,
     "metadata": {},
     "output_type": "execute_result"
    }
   ],
   "source": [
    "X.loc[X.Year == 2014,['Year', 'BlackFemale']]"
   ]
  },
  {
   "cell_type": "markdown",
   "metadata": {},
   "source": [
    "### Notes On Fitting, Scoring, and Predicting:"
   ]
  },
  {
   "cell_type": "markdown",
   "metadata": {},
   "source": [
    "Here's a hint to help you complete the assignment without pulling your hair out! When you use `.fit()`, `.score()`, and `.predict()` on your model, SciKit-Learn expects your training data to be in spreadsheet (2D Array-Like) form. This means you can't simply pass in a 1D Array (slice) and get away with it.\n",
    "\n",
    "To properly prep your data, you have to pass in a 2D Numpy Array, or a dataframe. But what happens if you really only want to pass in a single feature?\n",
    "\n",
    "If you slice your dataframe using `df[['ColumnName']]` syntax, the result that comes back is actually a _dataframe_. Go ahead and do a `type()` on it to check it out. Since it's already a dataframe, you're good -- no further changes needed.\n",
    "\n",
    "But if you slice your dataframe using the `df.ColumnName` syntax, OR if you call `df['ColumnName']`, the result that comes back is actually a series (1D Array)! This will cause SKLearn to bug out. So if you are slicing using either of those two techniques, before sending your training or testing data to `.fit` / `.score`, do `any_column = my_column.reshape(-1,1)`. \n",
    "\n",
    "This will convert your 1D array of `[n_samples]`, to a 2D array shaped like `[n_samples, 1]`. A single feature, with many samples.\n",
    "\n",
    "If you did something like `my_column = [my_column]`, that would produce an array in the shape of `[1, n_samples]`, which is incorrect because SKLearn expects your data to be arranged as `[n_samples, n_features]`. Keep in mind, all of the above only relates to your `X` or input data, and does not apply to your `y` or labels."
   ]
  }
 ],
 "metadata": {
  "anaconda-cloud": {},
  "kernelspec": {
   "display_name": "Python 3",
   "language": "python",
   "name": "python3"
  },
  "language_info": {
   "codemirror_mode": {
    "name": "ipython",
    "version": 3
   },
   "file_extension": ".py",
   "mimetype": "text/x-python",
   "name": "python",
   "nbconvert_exporter": "python",
   "pygments_lexer": "ipython3",
   "version": "3.6.4"
  },
  "toc": {
   "colors": {
    "hover_highlight": "#DAA520",
    "running_highlight": "#FF0000",
    "selected_highlight": "#FFD700"
   },
   "moveMenuLeft": true,
   "nav_menu": {
    "height": "58px",
    "width": "252px"
   },
   "navigate_menu": true,
   "number_sections": true,
   "sideBar": true,
   "threshold": 4,
   "toc_cell": false,
   "toc_section_display": "block",
   "toc_window_display": false,
   "widenNotebook": false
  }
 },
 "nbformat": 4,
 "nbformat_minor": 2
}
