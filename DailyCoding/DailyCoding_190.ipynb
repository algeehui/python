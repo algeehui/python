{
 "cells": [
  {
   "cell_type": "markdown",
   "metadata": {},
   "source": [
    "This problem was asked by Facebook.\n",
    "Given a circular array, compute its maximum subarray sum in O(n) time.\n",
    "For example, given [8, -1, 3, 4], return 15 as we choose the numbers 3, 4, and 8 where the 8 is obtained from wrapping around.\n",
    "Given [-4, 5, 1, 0], return 6 as we choose the numbers 5 and 1."
   ]
  },
  {
   "cell_type": "code",
   "execution_count": 123,
   "metadata": {},
   "outputs": [],
   "source": [
    "import operator\n",
    "\n",
    "class CircularList(list):\n",
    "    def __getitem__(self, key):\n",
    "        return super(CircularList, self).__getitem__(key % len(self))\n",
    "    def max_subarray(self):\n",
    "        max_list = []\n",
    "        curr_max = 0\n",
    "        for i in range(len(self) * 2):\n",
    "            if self[i] >= 0: \n",
    "                curr_max += self[i]\n",
    "            elif self[i] < 0:\n",
    "                max_list.append(curr_max)\n",
    "                curr_max = 0\n",
    "        return max(self)"
   ]
  },
  {
   "cell_type": "code",
   "execution_count": 124,
   "metadata": {},
   "outputs": [],
   "source": [
    "c1 = CircularList([10,20,-9,500,-2,50,30,10])"
   ]
  },
  {
   "cell_type": "code",
   "execution_count": 125,
   "metadata": {},
   "outputs": [
    {
     "data": {
      "text/plain": [
       "500"
      ]
     },
     "execution_count": 125,
     "metadata": {},
     "output_type": "execute_result"
    }
   ],
   "source": [
    "c1.max_subarray()"
   ]
  },
  {
   "cell_type": "code",
   "execution_count": null,
   "metadata": {},
   "outputs": [],
   "source": []
  },
  {
   "cell_type": "code",
   "execution_count": null,
   "metadata": {},
   "outputs": [],
   "source": []
  }
 ],
 "metadata": {
  "kernelspec": {
   "display_name": "Python 3",
   "language": "python",
   "name": "python3"
  },
  "language_info": {
   "codemirror_mode": {
    "name": "ipython",
    "version": 3
   },
   "file_extension": ".py",
   "mimetype": "text/x-python",
   "name": "python",
   "nbconvert_exporter": "python",
   "pygments_lexer": "ipython3",
   "version": "3.6.7"
  }
 },
 "nbformat": 4,
 "nbformat_minor": 2
}
