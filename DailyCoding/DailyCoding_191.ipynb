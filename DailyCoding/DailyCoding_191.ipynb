{
 "cells": [
  {
   "cell_type": "markdown",
   "metadata": {},
   "source": [
    "This problem was asked by Stripe.\n",
    "\n",
    "Given a collection of intervals, find the minimum number of intervals you need to remove to make the rest of the intervals non-overlapping.\n",
    "\n",
    "Intervals can \"touch\", such as [0, 1] and [1, 2], but they won't be considered overlapping.\n",
    "\n",
    "For example, given the intervals (7, 9), (2, 4), (5, 8), return 1 as the last interval can be removed and the first two won't overlap.\n",
    "\n",
    "The intervals are not necessarily sorted in any order.\n",
    "\n"
   ]
  },
  {
   "cell_type": "markdown",
   "metadata": {},
   "source": [
    "### Reminder of sorting a dictionary by key or value"
   ]
  },
  {
   "cell_type": "code",
   "execution_count": 34,
   "metadata": {},
   "outputs": [
    {
     "name": "stdout",
     "output_type": "stream",
     "text": [
      "[('alan', 2), ('bob', 1), ('carl', 40), ('danny', 3)]\n",
      "[('bob', 1), ('alan', 2), ('danny', 3), ('carl', 40)]\n"
     ]
    }
   ],
   "source": [
    "mydict = {'carl':40,\n",
    "          'alan':2,\n",
    "          'bob':1,\n",
    "          'danny':3}\n",
    "\n",
    "print(sorted(mydict.items(), key=lambda x: x[0]))\n",
    "print(sorted(mydict.items(), key=lambda x: x[1]))"
   ]
  },
  {
   "cell_type": "markdown",
   "metadata": {},
   "source": [
    "### Problem Solving: "
   ]
  },
  {
   "cell_type": "code",
   "execution_count": 51,
   "metadata": {},
   "outputs": [],
   "source": [
    "class interval(object):\n",
    "    def __init__(self, start, end):\n",
    "        self.start = start\n",
    "        self.end = end\n",
    "    def __str__(self):\n",
    "        return '({},{})'.format(self.start, self.end)\n",
    "    def __repr__(self):\n",
    "        return self.__str__()\n",
    "    def is_overlapped(self, other):\n",
    "        if self.end > other.start and self.start < other.end:\n",
    "            return True\n",
    "        return False"
   ]
  },
  {
   "cell_type": "code",
   "execution_count": 52,
   "metadata": {},
   "outputs": [],
   "source": [
    "i1 = interval(10, 15)\n",
    "i2 = interval(7, 9)\n",
    "i3 = interval(1, 3)\n",
    "i4 = interval(3, 5)\n",
    "i5 = interval(5, 8)\n",
    "intervals = [i1,i2,i3,i4,i5]"
   ]
  },
  {
   "cell_type": "code",
   "execution_count": 53,
   "metadata": {},
   "outputs": [],
   "source": [
    "intervals_sorted = sorted(intervals, key=lambda x: x.start)"
   ]
  },
  {
   "cell_type": "code",
   "execution_count": 54,
   "metadata": {},
   "outputs": [],
   "source": [
    "intervals_no_overlap = []\n",
    "for i, _ in enumerate(intervals_sorted):\n",
    "    if i == 0:\n",
    "        intervals_no_overlap.append(intervals_sorted[i])\n",
    "    elif i < len(intervals_sorted):\n",
    "        if not intervals_sorted[i].is_overlapped(intervals_sorted[i - 1]):\n",
    "            intervals_no_overlap.append(intervals_sorted[i])\n",
    "    "
   ]
  },
  {
   "cell_type": "code",
   "execution_count": 56,
   "metadata": {},
   "outputs": [
    {
     "name": "stdout",
     "output_type": "stream",
     "text": [
      "4\n"
     ]
    }
   ],
   "source": [
    "print(len(intervals_no_overlap))"
   ]
  },
  {
   "cell_type": "code",
   "execution_count": 57,
   "metadata": {},
   "outputs": [
    {
     "data": {
      "text/plain": [
       "[(1,3), (3,5), (5,8), (10,15)]"
      ]
     },
     "execution_count": 57,
     "metadata": {},
     "output_type": "execute_result"
    }
   ],
   "source": [
    "intervals_no_overlap"
   ]
  },
  {
   "cell_type": "code",
   "execution_count": null,
   "metadata": {},
   "outputs": [],
   "source": []
  }
 ],
 "metadata": {
  "kernelspec": {
   "display_name": "Python 3",
   "language": "python",
   "name": "python3"
  },
  "language_info": {
   "codemirror_mode": {
    "name": "ipython",
    "version": 3
   },
   "file_extension": ".py",
   "mimetype": "text/x-python",
   "name": "python",
   "nbconvert_exporter": "python",
   "pygments_lexer": "ipython3",
   "version": "3.6.7"
  }
 },
 "nbformat": 4,
 "nbformat_minor": 2
}
