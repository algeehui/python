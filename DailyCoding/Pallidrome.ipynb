{
 "cells": [
  {
   "cell_type": "code",
   "execution_count": 57,
   "metadata": {},
   "outputs": [],
   "source": [
    "def is_pallidrome(value):     \n",
    "    def _get_length(value):\n",
    "        length = 0\n",
    "        while True: \n",
    "            if int(value / 10) > 0:\n",
    "                length += 1\n",
    "                value = int(value / 10)\n",
    "            elif int(value / 10) == 0:\n",
    "                length += 1\n",
    "                break\n",
    "        return length\n",
    "    \n",
    "    value_orig = value\n",
    "    value_reversed = 0\n",
    "    length = _get_length(value)\n",
    "    \n",
    "    for i in range(length-1,-1,-1):\n",
    "        print('i=', i)\n",
    "        if int(value / 10) > 0:\n",
    "\n",
    "            value_reversed += (value % 10) * (10 ** i)\n",
    "            print('value_reversed:', value_reversed)\n",
    "            value = int(value / 10)\n",
    "        elif int(value / 10) == 0:\n",
    "            value_reversed += (value % 10) * (10 ** i)\n",
    "            value = int(value / 10)\n",
    "            print('value_reversed', value_reversed)\n",
    "            \n",
    "    return value_reversed == value_orig\n",
    "    "
   ]
  },
  {
   "cell_type": "code",
   "execution_count": 56,
   "metadata": {},
   "outputs": [
    {
     "name": "stdout",
     "output_type": "stream",
     "text": [
      "i= 2\n",
      "value_reversed: 500\n",
      "i= 1\n",
      "value_reversed: 520\n",
      "i= 0\n",
      "value_reversed 525\n"
     ]
    },
    {
     "data": {
      "text/plain": [
       "True"
      ]
     },
     "execution_count": 56,
     "metadata": {},
     "output_type": "execute_result"
    }
   ],
   "source": [
    "is_pallidrome(525)"
   ]
  },
  {
   "cell_type": "code",
   "execution_count": 5,
   "metadata": {},
   "outputs": [],
   "source": [
    "assert 1 == 1"
   ]
  },
  {
   "cell_type": "code",
   "execution_count": 28,
   "metadata": {},
   "outputs": [
    {
     "data": {
      "text/plain": [
       "1"
      ]
     },
     "execution_count": 28,
     "metadata": {},
     "output_type": "execute_result"
    }
   ],
   "source": [
    "10**0"
   ]
  },
  {
   "cell_type": "code",
   "execution_count": null,
   "metadata": {},
   "outputs": [],
   "source": []
  }
 ],
 "metadata": {
  "kernelspec": {
   "display_name": "Python 3",
   "language": "python",
   "name": "python3"
  },
  "language_info": {
   "codemirror_mode": {
    "name": "ipython",
    "version": 3
   },
   "file_extension": ".py",
   "mimetype": "text/x-python",
   "name": "python",
   "nbconvert_exporter": "python",
   "pygments_lexer": "ipython3",
   "version": "3.7.0"
  }
 },
 "nbformat": 4,
 "nbformat_minor": 2
}
