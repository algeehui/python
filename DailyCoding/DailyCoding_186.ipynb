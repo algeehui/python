{
 "cells": [
  {
   "cell_type": "markdown",
   "metadata": {},
   "source": [
    "This problem was asked by Microsoft.\n",
    "Given an array of positive integers, divide the array into two subsets such that the difference between the sum of the subsets is as small as possible.\n",
    "For example, given [5, 10, 15, 20, 25], return the sets {10, 25} and {5, 15, 20}, which has a difference of 5, which is the smallest possible difference.\n"
   ]
  },
  {
   "cell_type": "code",
   "execution_count": 1,
   "metadata": {},
   "outputs": [],
   "source": [
    "array = [5, 10, 15, 20, 25]"
   ]
  },
  {
   "cell_type": "code",
   "execution_count": 9,
   "metadata": {},
   "outputs": [
    {
     "name": "stdout",
     "output_type": "stream",
     "text": [
      "[5]\n",
      "[10, 15, 20, 25]\n",
      "difference is 65\n",
      "[5, 10]\n",
      "[15, 20, 25]\n",
      "difference is 45\n",
      "[5, 10, 15]\n",
      "[20, 25]\n",
      "difference is 15\n",
      "[5, 10, 15, 20]\n",
      "[25]\n",
      "difference is 25\n",
      "[5, 10, 15, 20, 25]\n",
      "[]\n",
      "difference is 75\n"
     ]
    }
   ],
   "source": [
    "combination = []\n",
    "for i in range(len(array)):\n",
    "    left_array = array[:i+1]\n",
    "    right_array = array[i+1:]\n",
    "    difference = abs(sum(left_array) - sum(right_array))\n",
    "    combination.append(dict({'left_count': i + 1, 'difference': difference})\n",
    "    )\n",
    "    print(left_array)\n",
    "    print(right_array)\n",
    "    print('difference is {}'.format(difference))"
   ]
  },
  {
   "cell_type": "code",
   "execution_count": 10,
   "metadata": {},
   "outputs": [
    {
     "name": "stdout",
     "output_type": "stream",
     "text": [
      "[{'left_count': 1, 'difference': 65}, {'left_count': 2, 'difference': 45}, {'left_count': 3, 'difference': 15}, {'left_count': 4, 'difference': 25}, {'left_count': 5, 'difference': 75}]\n"
     ]
    }
   ],
   "source": [
    "print(combination)"
   ]
  },
  {
   "cell_type": "code",
   "execution_count": 15,
   "metadata": {},
   "outputs": [
    {
     "data": {
      "text/plain": [
       "{'left_count': 3, 'difference': 15}"
      ]
     },
     "execution_count": 15,
     "metadata": {},
     "output_type": "execute_result"
    }
   ],
   "source": [
    "sorted(combination, key=lambda x: x['difference'], reverse=False)[0]"
   ]
  },
  {
   "cell_type": "code",
   "execution_count": null,
   "metadata": {},
   "outputs": [],
   "source": []
  }
 ],
 "metadata": {
  "kernelspec": {
   "display_name": "Python 3",
   "language": "python",
   "name": "python3"
  },
  "language_info": {
   "codemirror_mode": {
    "name": "ipython",
    "version": 3
   },
   "file_extension": ".py",
   "mimetype": "text/x-python",
   "name": "python",
   "nbconvert_exporter": "python",
   "pygments_lexer": "ipython3",
   "version": "3.6.7"
  }
 },
 "nbformat": 4,
 "nbformat_minor": 2
}
