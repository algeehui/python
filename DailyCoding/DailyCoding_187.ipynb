{
 "cells": [
  {
   "cell_type": "markdown",
   "metadata": {},
   "source": [
    "Good morning! Here's your coding interview problem for today.\n",
    "This problem was asked by Google.\n",
    "You are given given a list of rectangles represented by min and max x- and y-coordinates. Compute whether or not a pair of rectangles overlap each other. If one rectangle completely covers another, it is considered overlapping.\n",
    "For example, given the following rectangles:\n",
    "```\n",
    "{\n",
    "    \"top_left\": (1, 4),\n",
    "    \"dimensions\": (3, 3) # width, height\n",
    "},\n",
    "{\n",
    "    \"top_left\": (-1, 3),\n",
    "    \"dimensions\": (2, 1)\n",
    "},\n",
    "{\n",
    "    \"top_left\": (0, 5),\n",
    "    \"dimensions\": (4, 3)\n",
    "}\n",
    "return true as the first and third rectangle overlap each other.\n",
    "```"
   ]
  },
  {
   "cell_type": "code",
   "execution_count": 140,
   "metadata": {},
   "outputs": [],
   "source": [
    "class line(object):\n",
    "    def __init__(self, anchor, width):\n",
    "        self.anchor = anchor\n",
    "        self.width = width\n",
    "        if anchor < anchor + width:\n",
    "            self.point = (anchor, anchor + width)\n",
    "        else: \n",
    "            self.point = (anchor + width, anchor)\n",
    "    def __str__(self):\n",
    "        return 'line {}'.format(self.point)\n",
    "    def is_overlap(self, other):\n",
    "        if self.point[1] > other.point[0] and self.point[0] < other.point[1]:\n",
    "            print('cont1')\n",
    "            return True\n",
    "        if self.point[0] < self.point[1] and other.point[0] < self.point[1]:\n",
    "            print('cont2')\n",
    "            return True\n",
    "        return False\n",
    "\n",
    "class rectangle(object):\n",
    "    def __init__(self, top_left, dimensions):\n",
    "        self.top_left = top_left\n",
    "        self.dimensions = dimensions\n",
    "        self.x_line = line(top_left[0], dimensions[0])\n",
    "        self.y_line = line(top_left[1], dimensions[1])\n",
    "    def __str__(self):\n",
    "        return 'rectangle x:{}, y:{}'.format(self.x_line, self.y_line)\n",
    "    def is_overlap(self, other):\n",
    "        print(self.y_line)\n",
    "        print(other.y_line)\n",
    "        return self.y_line.is_overlap(other.y_line) \n"
   ]
  },
  {
   "cell_type": "code",
   "execution_count": 141,
   "metadata": {},
   "outputs": [],
   "source": [
    "first_line = line(1,4)\n",
    "second_line = line(-1,3)"
   ]
  },
  {
   "cell_type": "code",
   "execution_count": 142,
   "metadata": {},
   "outputs": [
    {
     "name": "stdout",
     "output_type": "stream",
     "text": [
      "line (1, 5)\n",
      "line (-1, 2)\n"
     ]
    }
   ],
   "source": [
    "print(first_line)\n",
    "print(second_line)"
   ]
  },
  {
   "cell_type": "code",
   "execution_count": null,
   "metadata": {},
   "outputs": [],
   "source": [
    "first_line.is_overlap(second_line)"
   ]
  },
  {
   "cell_type": "code",
   "execution_count": 137,
   "metadata": {},
   "outputs": [],
   "source": [
    "rec1 = rectangle((1,4), (3,3))\n",
    "rec2 = rectangle((-1,3), (2,1))\n",
    "rec3 = rectangle((0,5), (4,3))"
   ]
  },
  {
   "cell_type": "code",
   "execution_count": 138,
   "metadata": {},
   "outputs": [
    {
     "name": "stdout",
     "output_type": "stream",
     "text": [
      "rectangle x:line (1, 4), y:line (4, 7)\n",
      "rectangle x:line (-1, 1), y:line (3, 4)\n",
      "rectangle x:line (0, 4), y:line (5, 8)\n"
     ]
    }
   ],
   "source": [
    "print(rec1)\n",
    "print(rec2)\n",
    "print(rec3)"
   ]
  },
  {
   "cell_type": "code",
   "execution_count": 139,
   "metadata": {},
   "outputs": [
    {
     "name": "stdout",
     "output_type": "stream",
     "text": [
      "line (4, 7)\n",
      "line (3, 4)\n"
     ]
    },
    {
     "data": {
      "text/plain": [
       "True"
      ]
     },
     "execution_count": 139,
     "metadata": {},
     "output_type": "execute_result"
    }
   ],
   "source": [
    "rec1.is_overlap(rec2)"
   ]
  },
  {
   "cell_type": "code",
   "execution_count": null,
   "metadata": {},
   "outputs": [],
   "source": []
  }
 ],
 "metadata": {
  "kernelspec": {
   "display_name": "Python 3",
   "language": "python",
   "name": "python3"
  },
  "language_info": {
   "codemirror_mode": {
    "name": "ipython",
    "version": 3
   },
   "file_extension": ".py",
   "mimetype": "text/x-python",
   "name": "python",
   "nbconvert_exporter": "python",
   "pygments_lexer": "ipython3",
   "version": "3.6.7"
  }
 },
 "nbformat": 4,
 "nbformat_minor": 2
}
