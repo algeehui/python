{
 "cells": [
  {
   "cell_type": "markdown",
   "metadata": {},
   "source": [
    "This problem was asked by Google.\n",
    "\n",
    "Given an array of elements, return the length of the longest subarray where all its elements are distinct.\n",
    "\n",
    "For example, given the array [5, 1, 3, 5, 2, 3, 4, 1], return 5 as the longest subarray of distinct elements is [5, 2, 3, 4, 1].\n"
   ]
  },
  {
   "cell_type": "code",
   "execution_count": 35,
   "metadata": {},
   "outputs": [],
   "source": [
    "array = [1,5,1,3,4,5]\n",
    "array = [5, 1, 3, 5, 2, 3, 4, 1]"
   ]
  },
  {
   "cell_type": "code",
   "execution_count": 44,
   "metadata": {},
   "outputs": [
    {
     "name": "stdout",
     "output_type": "stream",
     "text": [
      "original: [5, 1, 3, 5, 2, 3, 4, 1]\n",
      "[5, 1, 3]\n",
      "original: [1, 3, 5, 2, 3, 4, 1]\n",
      "[1, 3, 5, 2]\n",
      "original: [3, 5, 2, 3, 4, 1]\n",
      "[3, 5, 2]\n",
      "original: [5, 2, 3, 4, 1]\n",
      "[5, 2, 3, 4, 1]\n",
      "original: [2, 3, 4, 1]\n",
      "[2, 3, 4, 1]\n",
      "original: [3, 4, 1]\n",
      "[3, 4, 1]\n",
      "original: [4, 1]\n",
      "[4, 1]\n",
      "original: [1]\n",
      "[1]\n"
     ]
    }
   ],
   "source": [
    "array_len = len(array)\n",
    "result_array = []\n",
    "for loc in range(len(array)):\n",
    "    local_array = array[loc:]\n",
    "    print('original: {}'.format(local_array))\n",
    "    for lloc in range(len(local_array)):\n",
    "        if local_array[:lloc+1].count(local_array[lloc]) > 1: \n",
    "            result_array.append(local_array[:lloc])\n",
    "            print(local_array[:lloc])\n",
    "            break\n",
    "        elif lloc == len(local_array) - 1:\n",
    "            result_array.append(local_array)\n",
    "            print(local_array)\n",
    "            break"
   ]
  },
  {
   "cell_type": "code",
   "execution_count": 45,
   "metadata": {},
   "outputs": [
    {
     "data": {
      "text/plain": [
       "[5, 2, 3, 4, 1]"
      ]
     },
     "execution_count": 45,
     "metadata": {},
     "output_type": "execute_result"
    }
   ],
   "source": [
    "sorted(result_array, key=lambda x:len(x), reverse=True)[0]"
   ]
  },
  {
   "cell_type": "code",
   "execution_count": null,
   "metadata": {},
   "outputs": [],
   "source": []
  }
 ],
 "metadata": {
  "kernelspec": {
   "display_name": "Python 3",
   "language": "python",
   "name": "python3"
  },
  "language_info": {
   "codemirror_mode": {
    "name": "ipython",
    "version": 3
   },
   "file_extension": ".py",
   "mimetype": "text/x-python",
   "name": "python",
   "nbconvert_exporter": "python",
   "pygments_lexer": "ipython3",
   "version": "3.6.7"
  }
 },
 "nbformat": 4,
 "nbformat_minor": 2
}
