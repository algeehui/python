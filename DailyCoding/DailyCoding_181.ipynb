{
 "cells": [
  {
   "cell_type": "markdown",
   "metadata": {},
   "source": [
    "Given a string, split it into as few strings as possible such that each string is a palindrome.\n",
    "\n",
    "For example, given the input string racecarannakayak, return [\"racecar\", \"anna\", \"kayak\"].\n",
    "\n",
    "Given the input string abc, return [\"a\", \"b\", \"c\"]."
   ]
  },
  {
   "cell_type": "code",
   "execution_count": 60,
   "metadata": {},
   "outputs": [],
   "source": [
    "str_palindrone = 'racecarannakayak'\n",
    "# str_palindrone = 'abc'\n",
    "list_palindrone = []\n",
    "i = 0\n",
    "def is_palindrone(word):\n",
    "    if word == word[::-1]:\n",
    "        return True\n",
    "    return False\n",
    "\n",
    "for j in range(len(str_palindrone)):\n",
    "    if len(str_palindrone[i:j+1]) == 1:\n",
    "        #skip to next since single character is always a palidrone\n",
    "        continue\n",
    "    elif is_palindrone(str_palindrone[i:j+1]):\n",
    "        list_palindrone.append(str_palindrone[i:j+1])\n",
    "        i=j+1\n",
    "    elif j == len(str_palindrone) - 1:\n",
    "        list_palindrone.extend(str_palindrone[i:])\n",
    "     "
   ]
  },
  {
   "cell_type": "code",
   "execution_count": 61,
   "metadata": {},
   "outputs": [
    {
     "name": "stdout",
     "output_type": "stream",
     "text": [
      "['racecar', 'anna', 'kayak']\n"
     ]
    }
   ],
   "source": [
    "print(list_palindrone)"
   ]
  },
  {
   "cell_type": "code",
   "execution_count": null,
   "metadata": {},
   "outputs": [],
   "source": []
  }
 ],
 "metadata": {
  "kernelspec": {
   "display_name": "Python 3",
   "language": "python",
   "name": "python3"
  },
  "language_info": {
   "codemirror_mode": {
    "name": "ipython",
    "version": 3
   },
   "file_extension": ".py",
   "mimetype": "text/x-python",
   "name": "python",
   "nbconvert_exporter": "python",
   "pygments_lexer": "ipython3",
   "version": "3.6.7"
  }
 },
 "nbformat": 4,
 "nbformat_minor": 2
}
