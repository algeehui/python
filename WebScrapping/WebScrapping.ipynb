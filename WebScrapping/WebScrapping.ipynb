{
 "cells": [
  {
   "cell_type": "code",
   "execution_count": 315,
   "metadata": {},
   "outputs": [],
   "source": [
    "from urllib.request import urlopen\n",
    "from bs4 import BeautifulSoup\n",
    "import pandas as pd"
   ]
  },
  {
   "cell_type": "code",
   "execution_count": 316,
   "metadata": {},
   "outputs": [],
   "source": [
    "urls= {'Today':'http://blackdogandmagpie.net/weather/today.htm', \n",
    "       'Yesterday':'http://blackdogandmagpie.net/weather/yesterday.htm'}\n",
    "lst_local = []"
   ]
  },
  {
   "cell_type": "markdown",
   "metadata": {},
   "source": [
    "Part 1: Extract html tables and combine into a single list: lst_local"
   ]
  },
  {
   "cell_type": "code",
   "execution_count": 317,
   "metadata": {},
   "outputs": [],
   "source": [
    "for date, url in urls.items():\n",
    "    html = urlopen(url)\n",
    "    soup = BeautifulSoup(html, \"lxml\")\n",
    "    table = soup.find_all('table')[0]\n",
    "    lst_table = pd.read_html(str(table))\n",
    "    df_local = lst_table[0]\n",
    "    df_local.columns = ['Name', 'Value', 'Time']\n",
    "    df_local['Day'] = date\n",
    "    lst_local.append(df_local)"
   ]
  },
  {
   "cell_type": "markdown",
   "metadata": {},
   "source": [
    "Part 2: Convert the lst_local to a single DataFrame and strip down to \n",
    "        essential features needed for reporting: df_combined"
   ]
  },
  {
   "cell_type": "code",
   "execution_count": 318,
   "metadata": {},
   "outputs": [],
   "source": [
    "df_combined = pd.concat(lst_local, axis=0)\n",
    "df_combined['Name'] = df_combined['Name'].str.replace(u'\\\\xa0', u' ')\n",
    "df_combined = df_combined.loc[df_combined['Name'].isin(['High Temperature', 'Low Temperature', 'High Humidity', 'Low Humidity']), ['Name', 'Day', 'Value']]\n",
    "df_combined['Name'] = df_combined[\"Name\"].astype(\"category\")\n",
    "df_combined['Name'].cat.set_categories(['High Temperature', 'Low Temperature', 'High Humidity', 'Low Humidity'],inplace=True)\n",
    "# df_combined"
   ]
  },
  {
   "cell_type": "markdown",
   "metadata": {},
   "source": [
    "Part 3: Pivot and relabel per reporting requirements: df_reporting"
   ]
  },
  {
   "cell_type": "code",
   "execution_count": 319,
   "metadata": {},
   "outputs": [],
   "source": [
    "# df_combined.pivot_table(index='Day', columns='Name', values='Value', aggfunc=max)"
   ]
  },
  {
   "cell_type": "code",
   "execution_count": 320,
   "metadata": {},
   "outputs": [],
   "source": [
    "df_reporting = df_combined.pivot_table(index='Day', columns='Name', values='Value', aggfunc=max)\n",
    "df_reporting.columns = ['high_temp', 'low_temp', 'high_humidity', 'low_humidity']\n",
    "df_reporting.index = ['today', 'yesterday']\n",
    "df_reporting.index.name = 'day'\n",
    "# df_reporting"
   ]
  },
  {
   "cell_type": "code",
   "execution_count": 321,
   "metadata": {},
   "outputs": [],
   "source": [
    "df_reporting.to_csv('TakeHome_Alvin.csv')"
   ]
  },
  {
   "cell_type": "code",
   "execution_count": 322,
   "metadata": {},
   "outputs": [
    {
     "data": {
      "text/html": [
       "<div>\n",
       "<style>\n",
       "    .dataframe thead tr:only-child th {\n",
       "        text-align: right;\n",
       "    }\n",
       "\n",
       "    .dataframe thead th {\n",
       "        text-align: left;\n",
       "    }\n",
       "\n",
       "    .dataframe tbody tr th {\n",
       "        vertical-align: top;\n",
       "    }\n",
       "</style>\n",
       "<table border=\"1\" class=\"dataframe\">\n",
       "  <thead>\n",
       "    <tr style=\"text-align: right;\">\n",
       "      <th></th>\n",
       "      <th>high_temp</th>\n",
       "      <th>low_temp</th>\n",
       "      <th>high_humidity</th>\n",
       "      <th>low_humidity</th>\n",
       "    </tr>\n",
       "    <tr>\n",
       "      <th>day</th>\n",
       "      <th></th>\n",
       "      <th></th>\n",
       "      <th></th>\n",
       "      <th></th>\n",
       "    </tr>\n",
       "  </thead>\n",
       "  <tbody>\n",
       "    <tr>\n",
       "      <th>today</th>\n",
       "      <td>59.7 °F</td>\n",
       "      <td>40.4 °F</td>\n",
       "      <td>100 %</td>\n",
       "      <td>75 %</td>\n",
       "    </tr>\n",
       "    <tr>\n",
       "      <th>yesterday</th>\n",
       "      <td>65.7 °F</td>\n",
       "      <td>47.4 °F</td>\n",
       "      <td>90 %</td>\n",
       "      <td>55 %</td>\n",
       "    </tr>\n",
       "  </tbody>\n",
       "</table>\n",
       "</div>"
      ],
      "text/plain": [
       "          high_temp low_temp high_humidity low_humidity\n",
       "day                                                    \n",
       "today       59.7 °F  40.4 °F         100 %         75 %\n",
       "yesterday   65.7 °F  47.4 °F          90 %         55 %"
      ]
     },
     "execution_count": 322,
     "metadata": {},
     "output_type": "execute_result"
    }
   ],
   "source": [
    "df_reporting"
   ]
  },
  {
   "cell_type": "code",
   "execution_count": null,
   "metadata": {},
   "outputs": [],
   "source": []
  }
 ],
 "metadata": {
  "kernelspec": {
   "display_name": "Python 3",
   "language": "python",
   "name": "python3"
  },
  "language_info": {
   "codemirror_mode": {
    "name": "ipython",
    "version": 3
   },
   "file_extension": ".py",
   "mimetype": "text/x-python",
   "name": "python",
   "nbconvert_exporter": "python",
   "pygments_lexer": "ipython3",
   "version": "3.6.4"
  }
 },
 "nbformat": 4,
 "nbformat_minor": 2
}
